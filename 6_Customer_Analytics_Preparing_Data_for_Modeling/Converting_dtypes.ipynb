{
 "cells": [
  {
   "cell_type": "code",
   "execution_count": null,
   "id": "025e2a6f-25b1-4aaf-b1e5-72ce16286c08",
   "metadata": {},
   "outputs": [],
   "source": [
    "import pandas as pd\n",
    "\n",
    "# Convert 'experience' to ordered categorical\n",
    "experience_categories = ['0-3', '3-5', '5-10', '10+'] # Example categories, adjust as needed\n",
    "ds_jobs_transformed['experience'] = pd.Categorical(ds_jobs_transformed['experience'], categories=experience_categories, ordered=True)\n",
    "\n",
    "# Convert 'company_size' to ordered categorical\n",
    "company_size_categories = ['<10', '10-50', '51-200', '201-500', '501-1000', '1000-4999', '5000-10000', '10000+'] # Example categories\n",
    "ds_jobs_transformed['company_size'] = pd.Categorical(ds_jobs_transformed['company_size'], categories=company_size_categories, ordered=True)\n",
    "\n",
    "\n",
    "# Now the filtering should work\n",
    "ds_jobs_transformed = ds_jobs_transformed[\n",
    "    (ds_jobs_transformed['experience'] >= '10+') &  # Note the string '10+'\n",
    "    (ds_jobs_transformed['company_size'] >= '1000-4999')\n",
    "]"
   ]
  },
  {
   "cell_type": "code",
   "execution_count": null,
   "id": "6567f653-4c99-4c30-ad28-cb5306d9b0d3",
   "metadata": {},
   "outputs": [],
   "source": [
    "import pandas as pd\n",
    "\n",
    "# Assuming 'ds_jobs_transformed' is your DataFrame\n",
    "\n",
    "# Define ordered categories for columns\n",
    "ordered_cats = {\n",
    "    'enrolled_university': ['no_enrollment', 'Part time course', 'Full time course'],\n",
    "    'education_level': ['Primary School', 'High School', 'Graduate', 'Masters', 'Phd'],\n",
    "    'experience': ['<1'] + list(map(str, range(1, 21))) + ['>20'],\n",
    "    'company_size': ['<10', '10-49', '50-99', '100-499', '500-999', '1000-4999', '5000-9999', '10000+'],\n",
    "    'last_new_job': ['never', '1', '2', '3', '4', '>4']\n",
    "}\n",
    "\n",
    "# Convert categorical columns to ordered categorical \n",
    "for col, cats in ordered_cats.items():\n",
    "    ds_jobs_transformed[col] = ds_jobs_transformed[col].astype('category').cat.set_categories(cats, ordered=True)\n",
    "\n",
    "print(ds_jobs_transformed.dtypes)"
   ]
  }
 ],
 "metadata": {
  "kernelspec": {
   "display_name": "Python 3 (ipykernel)",
   "language": "python",
   "name": "python3"
  },
  "language_info": {
   "codemirror_mode": {
    "name": "ipython",
    "version": 3
   },
   "file_extension": ".py",
   "mimetype": "text/x-python",
   "name": "python",
   "nbconvert_exporter": "python",
   "pygments_lexer": "ipython3",
   "version": "3.9.13"
  }
 },
 "nbformat": 4,
 "nbformat_minor": 5
}
