{
 "cells": [
  {
   "cell_type": "markdown",
   "id": "a3d4387f-fa24-4a80-906b-4cca195b6736",
   "metadata": {},
   "source": [
    "# Data Analyst Professional Practical Exam Submission\n",
    "\n",
    "**You can use any tool that you want to do your analysis and create visualizations. Use this template to write up your summary for submission.**\n",
    "\n",
    "You can use any markdown formatting you wish. If you are not familiar with Markdown, read the [Markdown Guide](https://s3.amazonaws.com/talent-assets.datacamp.com/Markdown+Guide.pdf) before you start.\n"
   ]
  },
  {
   "cell_type": "markdown",
   "id": "562d9d77-2e1e-4523-a28e-1e3b388f930c",
   "metadata": {},
   "source": [
    "## 📝 Task List\n",
    "\n",
    "Your written report should include written text summaries and graphics of the following:\n",
    "- Data validation:   \n",
    "  - Describe validation and cleaning steps for every column in the data \n",
    "- Exploratory Analysis:  \n",
    "  - Include two different graphics showing single variables only to demonstrate the characteristics of data  \n",
    "  - Include at least one graphic showing two or more variables to represent the relationship between features\n",
    "  - Describe your findings\n",
    "- Definition of a metric for the business to monitor  \n",
    "  - How should the business use the metric to monitor the business problem\n",
    "  - Can you estimate initial value(s) for the metric based on the current data\n",
    "- Final summary including recommendations that the business should undertake\n",
    "\n",
    "*Start writing report here..*"
   ]
  },
  {
   "cell_type": "markdown",
   "id": "c22f7f5b-2a69-4515-8b29-7b0e94829f11",
   "metadata": {},
   "source": []
  },
  {
   "cell_type": "markdown",
   "id": "9c5042af-7f73-4808-b735-c262418c9395",
   "metadata": {},
   "source": [
    "## ✅ When you have finished...\n",
    "-  Publish your Workspace using the option on the left\n",
    "-  Check the published version of your report:\n",
    "\t-  Can you see everything you want us to grade?\n",
    "    -  Are all the graphics visible?\n",
    "-  Review the grading rubric. Have you included everything that will be graded?\n",
    "-  Head back to the [Certification Dashboard](https://app.datacamp.com/certification) to submit your practical exam report and record your presentation"
   ]
  },
  {
   "cell_type": "code",
   "execution_count": null,
   "id": "a5b865eb-1db1-42a8-af3b-18b75eefbfb5",
   "metadata": {},
   "outputs": [],
   "source": []
  },
  {
   "cell_type": "code",
   "execution_count": 36,
   "id": "680beeac-f8b2-4521-a07c-c7ba99257a3b",
   "metadata": {},
   "outputs": [
    {
     "name": "stdout",
     "output_type": "stream",
     "text": [
      "Original ID: 2e72d641-95ac-497b-bbf8-4861764a7097\n",
      "Cleaned ID: 27264195497848617647097\n"
     ]
    }
   ],
   "source": [
    "import re\n",
    "\n",
    "def remove_letters_and_special_characters(input_string):\n",
    "  \"\"\"\n",
    "  Removes all letters and special characters from a given string.\n",
    "\n",
    "  Args:\n",
    "    input_string: The input string.\n",
    "\n",
    "  Returns:\n",
    "    A string containing only digits.\n",
    "  \"\"\"\n",
    "  if not isinstance(input_string, str):\n",
    "    return None  # Handle non-string inputs\n",
    "\n",
    "  # Use regular expression to remove all non-digit characters\n",
    "  cleaned_string = re.sub(r\"[^0-9]\", \"\", input_string) \n",
    "  return cleaned_string\n",
    "\n",
    "# Example usage:\n",
    "customer_id = '2e72d641-95ac-497b-bbf8-4861764a7097'\n",
    "cleaned_id = remove_letters_and_special_characters(customer_id)\n",
    "print(f\"Original ID: {customer_id}\")\n",
    "print(f\"Cleaned ID: {cleaned_id}\")"
   ]
  }
 ],
 "metadata": {
  "colab": {
   "name": "Welcome to DataCamp Workspaces.ipynb",
   "provenance": []
  },
  "kernelspec": {
   "display_name": "Python 3 (ipykernel)",
   "language": "python",
   "name": "python3"
  },
  "language_info": {
   "codemirror_mode": {
    "name": "ipython",
    "version": 3
   },
   "file_extension": ".py",
   "mimetype": "text/x-python",
   "name": "python",
   "nbconvert_exporter": "python",
   "pygments_lexer": "ipython3",
   "version": "3.13.0"
  }
 },
 "nbformat": 4,
 "nbformat_minor": 5
}
