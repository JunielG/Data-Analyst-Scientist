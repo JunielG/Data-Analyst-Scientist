{
 "cells": [
  {
   "cell_type": "code",
   "execution_count": 3,
   "id": "9c11713a-1b2c-48e5-a9c6-f2e546bc0d37",
   "metadata": {},
   "outputs": [
    {
     "data": {
      "image/png": "[encoded data removed]",
      "text/plain": [
       "<Figure size 640x480 with 1 Axes>"
      ]
     },
     "metadata": {},
     "output_type": "display_data"
    }
   ],
   "source": [
    "# Import required libraries\n",
    "import pandas as pd\n",
    "import numpy as np\n",
    "import matplotlib.pyplot as plt\n",
    "import seaborn as sns\n",
    "\n",
    "# Read in and preview the dataset\n",
    "crimes = pd.read_csv(\"LA_crimes.csv\", parse_dates=[\"Date Rptd\", \"DATE OCC\"], dtype={\"TIME OCC\": str})\n",
    "crimes.head()\n",
    "\n",
    "## Which hour has the highest frequency of crimes? Store as an integer variable called peak_crime_hour\n",
    "\n",
    "# Extract the first two digits from \"TIME OCC\", representing the hour,\n",
    "# and convert to integer data type\n",
    "crimes[\"HOUR OCC\"] = crimes[\"TIME OCC\"].str[:2].astype(int)\n",
    "\n",
    "# Preview the DataFrame to confirm the new column is correct\n",
    "crimes.head()\n",
    "\n",
    "# Produce a countplot to find the largest frequency of crimes by hour\n",
    "sns.countplot(data=crimes, x=\"HOUR OCC\")\n",
    "plt.show()\n",
    "\n",
    "# Midday has the largest volume of crime\n",
    "peak_crime_hour = 12\n"
   ]
  },
  {
   "cell_type": "code",
   "execution_count": 5,
   "id": "0040346b-42f4-4737-ac33-3df505edab85",
   "metadata": {},
   "outputs": [
    {
     "name": "stdout",
     "output_type": "stream",
     "text": [
      "The area with the largest volume of night crime is 77th Street\n",
      "Age Bracket\n",
      "26-34    1996\n",
      "35-44    1810\n",
      "45-54    1292\n",
      "18-25    1272\n",
      "55-64     998\n",
      "65+       688\n",
      "0-17      277\n",
      "Name: count, dtype: int64\n"
     ]
    }
   ],
   "source": [
    "## Which area has the largest frequency of night crimes (crimes committed between 10pm and 3:59am)? \n",
    "## Save as a string variable called peak_night_crime_location\n",
    "# Filter for the night-time hours\n",
    "# 0 = midnight; 3 = crimes between 3am and 3:59am, i.e., don't include 4\n",
    "night_time = crimes[crimes[\"HOUR OCC\"].isin([22,23,0,1,2,3])]\n",
    "\n",
    "# Group by \"AREA NAME\" and count occurrences, filtering for the largest value and saving the \"AREA NAME\"\n",
    "peak_night_crime_location = night_time.groupby(\"AREA NAME\", \n",
    "                                               as_index=False)[\"HOUR OCC\"].count().sort_values(\"HOUR OCC\",\n",
    "                                                                                               ascending=False).iloc[0][\"AREA NAME\"]\n",
    "# Print the peak night crime location\n",
    "print(f\"The area with the largest volume of night crime is {peak_night_crime_location}\")\n",
    "\n",
    "## Identify the number of crimes committed against victims by age group (0-17, 18-25, 26-34, 35-44, 45-54, 55-64, 65+) \n",
    "## Save as a pandas Series called victim_ages\n",
    "# Create bins and labels for victim age ranges\n",
    "age_bins = [0, 17, 25, 34, 44, 54, 64, np.inf]\n",
    "age_labels = [\"0-17\", \"18-25\", \"26-34\", \"35-44\", \"45-54\", \"55-64\", \"65+\"]\n",
    "\n",
    "# Add a new column using pd.cut() to bin values into discrete intervals\n",
    "crimes[\"Age Bracket\"] = pd.cut(crimes[\"Vict Age\"],\n",
    "                               bins=age_bins,\n",
    "                               labels=age_labels)\n",
    "\n",
    "# Find the category with the largest frequency\n",
    "victim_ages = crimes[\"Age Bracket\"].value_counts()\n",
    "print(victim_ages)"
   ]
  },
  {
   "cell_type": "code",
   "execution_count": null,
   "id": "ed923d9e-7a9c-41f5-8214-e4b151ec03cf",
   "metadata": {},
   "outputs": [],
   "source": []
  }
 ],
 "metadata": {
  "kernelspec": {
   "display_name": "Python 3 (ipykernel)",
   "language": "python",
   "name": "python3"
  },
  "language_info": {
   "codemirror_mode": {
    "name": "ipython",
    "version": 3
   },
   "file_extension": ".py",
   "mimetype": "text/x-python",
   "name": "python",
   "nbconvert_exporter": "python",
   "pygments_lexer": "ipython3",
   "version": "3.9.13"
  }
 },
 "nbformat": 4,
 "nbformat_minor": 5
}
