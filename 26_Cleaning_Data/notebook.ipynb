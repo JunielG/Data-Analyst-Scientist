{
 "cells": [
  {
   "cell_type": "code",
   "execution_count": 1,
   "id": "d0eb4f16-5a99-460d-a5ba-706b7ef0bbe7",
   "metadata": {
    "executionCancelledAt": null,
    "executionTime": 5017,
    "id": "bA5ajAmk7XH6",
    "lastExecutedAt": 1748141498233,
    "lastExecutedByKernel": "f1fefd03-4721-4032-a2f5-9594c5eae1aa",
    "lastScheduledRunId": null,
    "lastSuccessfullyExecutedCode": "# Import libraries\nimport pandas as pd\nimport numpy as np\nimport matplotlib.pyplot as plt"
   },
   "outputs": [],
   "source": [
    "# Import libraries\n",
    "import pandas as pd\n",
    "import numpy as np\n",
    "import matplotlib.pyplot as plt"
   ]
  },
  {
   "cell_type": "markdown",
   "id": "0a7e03e3-23d7-4e83-9965-40f526f2d9ec",
   "metadata": {},
   "source": [
    "## Task 1: Loading and Inspecting the Data\n",
    "\n",
    "We will be working with a dataset of audiobooks downloaded from audible.in from 1998 to 2025 (pre-planned releases). [Source](https://www.kaggle.com/datasets/snehangsude/audible-dataset)\n",
    "\n",
    "The first thing we will do is load the raw audible data.\n",
    "\n",
    "### Instructions:\n",
    "* Using pandas, read the `audible_raw.csv` file that is located inside the `data` folder in our local directory. Assign to `audible`.\n",
    "* Show the first few rows of the `audible` data frame."
   ]
  },
  {
   "cell_type": "code",
   "execution_count": 2,
   "id": "d11e4c3e-94ec-4ba7-a492-3f3211ba274c",
   "metadata": {
    "executionCancelledAt": null,
    "executionTime": 196,
    "lastExecutedAt": 1748142353689,
    "lastExecutedByKernel": "f1fefd03-4721-4032-a2f5-9594c5eae1aa",
    "lastScheduledRunId": null,
    "lastSuccessfullyExecutedCode": "# Load the audible_raw.csv file\ndf = pd.read_csv('data/audible_raw.csv')\n# View the first rows of the dataframe\ndf.head()",
    "outputsMetadata": {
     "0": {
      "height": 249,
      "tableState": {},
      "type": "dataFrame"
     }
    }
   },
   "outputs": [
    {
     "data": {
      "text/html": [
       "<div>\n",
       "<style scoped>\n",
       "    .dataframe tbody tr th:only-of-type {\n",
       "        vertical-align: middle;\n",
       "    }\n",
       "\n",
       "    .dataframe tbody tr th {\n",
       "        vertical-align: top;\n",
       "    }\n",
       "\n",
       "    .dataframe thead th {\n",
       "        text-align: right;\n",
       "    }\n",
       "</style>\n",
       "<table border=\"1\" class=\"dataframe\">\n",
       "  <thead>\n",
       "    <tr style=\"text-align: right;\">\n",
       "      <th></th>\n",
       "      <th>name</th>\n",
       "      <th>author</th>\n",
       "      <th>narrator</th>\n",
       "      <th>time</th>\n",
       "      <th>releasedate</th>\n",
       "      <th>language</th>\n",
       "      <th>stars</th>\n",
       "      <th>price</th>\n",
       "    </tr>\n",
       "  </thead>\n",
       "  <tbody>\n",
       "    <tr>\n",
       "      <th>0</th>\n",
       "      <td>Geronimo Stilton #11 &amp; #12</td>\n",
       "      <td>Writtenby:GeronimoStilton</td>\n",
       "      <td>Narratedby:BillLobely</td>\n",
       "      <td>2 hrs and 20 mins</td>\n",
       "      <td>04-08-08</td>\n",
       "      <td>English</td>\n",
       "      <td>5 out of 5 stars34 ratings</td>\n",
       "      <td>468.00</td>\n",
       "    </tr>\n",
       "    <tr>\n",
       "      <th>1</th>\n",
       "      <td>The Burning Maze</td>\n",
       "      <td>Writtenby:RickRiordan</td>\n",
       "      <td>Narratedby:RobbieDaymond</td>\n",
       "      <td>13 hrs and 8 mins</td>\n",
       "      <td>01-05-18</td>\n",
       "      <td>English</td>\n",
       "      <td>4.5 out of 5 stars41 ratings</td>\n",
       "      <td>820.00</td>\n",
       "    </tr>\n",
       "    <tr>\n",
       "      <th>2</th>\n",
       "      <td>The Deep End</td>\n",
       "      <td>Writtenby:JeffKinney</td>\n",
       "      <td>Narratedby:DanRussell</td>\n",
       "      <td>2 hrs and 3 mins</td>\n",
       "      <td>06-11-20</td>\n",
       "      <td>English</td>\n",
       "      <td>4.5 out of 5 stars38 ratings</td>\n",
       "      <td>410.00</td>\n",
       "    </tr>\n",
       "    <tr>\n",
       "      <th>3</th>\n",
       "      <td>Daughter of the Deep</td>\n",
       "      <td>Writtenby:RickRiordan</td>\n",
       "      <td>Narratedby:SoneelaNankani</td>\n",
       "      <td>11 hrs and 16 mins</td>\n",
       "      <td>05-10-21</td>\n",
       "      <td>English</td>\n",
       "      <td>4.5 out of 5 stars12 ratings</td>\n",
       "      <td>615.00</td>\n",
       "    </tr>\n",
       "    <tr>\n",
       "      <th>4</th>\n",
       "      <td>The Lightning Thief: Percy Jackson, Book 1</td>\n",
       "      <td>Writtenby:RickRiordan</td>\n",
       "      <td>Narratedby:JesseBernstein</td>\n",
       "      <td>10 hrs</td>\n",
       "      <td>13-01-10</td>\n",
       "      <td>English</td>\n",
       "      <td>4.5 out of 5 stars181 ratings</td>\n",
       "      <td>820.00</td>\n",
       "    </tr>\n",
       "  </tbody>\n",
       "</table>\n",
       "</div>"
      ],
      "text/plain": [
       "                                         name                     author  \\\n",
       "0                  Geronimo Stilton #11 & #12  Writtenby:GeronimoStilton   \n",
       "1                            The Burning Maze      Writtenby:RickRiordan   \n",
       "2                                The Deep End       Writtenby:JeffKinney   \n",
       "3                        Daughter of the Deep      Writtenby:RickRiordan   \n",
       "4  The Lightning Thief: Percy Jackson, Book 1      Writtenby:RickRiordan   \n",
       "\n",
       "                    narrator                time releasedate language  \\\n",
       "0      Narratedby:BillLobely   2 hrs and 20 mins    04-08-08  English   \n",
       "1   Narratedby:RobbieDaymond   13 hrs and 8 mins    01-05-18  English   \n",
       "2      Narratedby:DanRussell    2 hrs and 3 mins    06-11-20  English   \n",
       "3  Narratedby:SoneelaNankani  11 hrs and 16 mins    05-10-21  English   \n",
       "4  Narratedby:JesseBernstein              10 hrs    13-01-10  English   \n",
       "\n",
       "                           stars   price  \n",
       "0     5 out of 5 stars34 ratings  468.00  \n",
       "1   4.5 out of 5 stars41 ratings  820.00  \n",
       "2   4.5 out of 5 stars38 ratings  410.00  \n",
       "3   4.5 out of 5 stars12 ratings  615.00  \n",
       "4  4.5 out of 5 stars181 ratings  820.00  "
      ]
     },
     "execution_count": 2,
     "metadata": {},
     "output_type": "execute_result"
    }
   ],
   "source": [
    "# Load the audible_raw.csv file\n",
    "df = pd.read_csv('audible_raw.csv')\n",
    "# View the first rows of the dataframe\n",
    "df.head()"
   ]
  },
  {
   "cell_type": "markdown",
   "id": "0e5fec85-ae7b-4c7b-a8b9-7e8cf47b1bcb",
   "metadata": {},
   "source": [
    "### 💾 The data\n",
    "\n",
    "- \"name\" - The name of the audiobook.\n",
    "- \"author\" - The audiobook's author.\n",
    "- \"narrator\" - The audiobook's narrator.\n",
    "- \"time\" -  The audiobook's duration, in hours and minutes.\n",
    "- \"releasedate\" -  The date the audiobook was published.\n",
    "- \"language\" -  The audiobook's language.\n",
    "- \"stars\" -  The average number of stars (out of 5) and the number of ratings (if available).\n",
    "- \"price\" -  The audiobook's price in INR (Indian Rupee)."
   ]
  },
  {
   "cell_type": "markdown",
   "id": "b34a10b0-67fe-402f-b4aa-24577d0857fa",
   "metadata": {},
   "source": [
    " We can use the `.info()` method to inspect the data types of the columns"
   ]
  },
  {
   "cell_type": "code",
   "execution_count": 3,
   "id": "00ecf8cb-a271-4dbd-b08d-bd3b187964b2",
   "metadata": {
    "executionCancelledAt": null,
    "executionTime": 85,
    "lastExecutedAt": 1748141992972,
    "lastExecutedByKernel": "f1fefd03-4721-4032-a2f5-9594c5eae1aa",
    "lastScheduledRunId": null,
    "lastSuccessfullyExecutedCode": "# Inspect the columns' data types\ndf.info()",
    "outputsMetadata": {
     "0": {
      "height": 332,
      "type": "stream"
     }
    }
   },
   "outputs": [
    {
     "name": "stdout",
     "output_type": "stream",
     "text": [
      "<class 'pandas.core.frame.DataFrame'>\n",
      "RangeIndex: 87489 entries, 0 to 87488\n",
      "Data columns (total 8 columns):\n",
      " #   Column       Non-Null Count  Dtype \n",
      "---  ------       --------------  ----- \n",
      " 0   name         87489 non-null  object\n",
      " 1   author       87489 non-null  object\n",
      " 2   narrator     87489 non-null  object\n",
      " 3   time         87489 non-null  object\n",
      " 4   releasedate  87489 non-null  object\n",
      " 5   language     87489 non-null  object\n",
      " 6   stars        87489 non-null  object\n",
      " 7   price        87489 non-null  object\n",
      "dtypes: object(8)\n",
      "memory usage: 5.3+ MB\n"
     ]
    }
   ],
   "source": [
    "# Inspect the columns' data types\n",
    "df.info()"
   ]
  },
  {
   "cell_type": "markdown",
   "id": "47940552-2d24-40f5-8a87-153abc54e9d9",
   "metadata": {},
   "source": [
    "## Task 2: Clean text data in Author and Narrator columns\n",
    "\n",
    "We will start cleaning some of the text columns like `author` and `narrator`. We can remove the `Writtenby:` and `Narratedby:` portions of the text in those columns.\n",
    "\n",
    "For this, we will use the `.str.replace()` method\n",
    "\n",
    "### Instructions:\n",
    "* Remove 'Writtenby:' from the `author` column\n",
    "* Remove 'Narratedby:' from the `narrator` column\n",
    "* Check the results"
   ]
  },
  {
   "cell_type": "code",
   "execution_count": 4,
   "id": "f6eacd20-36df-4841-9cdc-034c93477ff3",
   "metadata": {
    "executionCancelledAt": null,
    "executionTime": 135,
    "lastExecutedAt": 1748142367694,
    "lastExecutedByKernel": "f1fefd03-4721-4032-a2f5-9594c5eae1aa",
    "lastScheduledRunId": null,
    "lastSuccessfullyExecutedCode": "# Remove Writtenby: from the author column\ndf['author'] = df['author'].str.replace('Writtenby:','')\n# Remove Narratedby: from the narrator column\ndf['narrator'] = df['narrator'].str.replace('Narratedby:','')\n# Check the results\ndf.head()",
    "outputsMetadata": {
     "0": {
      "height": 249,
      "tableState": {
       "customFilter": {
        "const": {
         "type": "boolean",
         "valid": true,
         "value": true
        },
        "id": "f2b04d49-a2bb-4254-a505-3729d6d7bc75",
        "nodeType": "const"
       }
      },
      "type": "dataFrame"
     }
    }
   },
   "outputs": [
    {
     "data": {
      "text/html": [
       "<div>\n",
       "<style scoped>\n",
       "    .dataframe tbody tr th:only-of-type {\n",
       "        vertical-align: middle;\n",
       "    }\n",
       "\n",
       "    .dataframe tbody tr th {\n",
       "        vertical-align: top;\n",
       "    }\n",
       "\n",
       "    .dataframe thead th {\n",
       "        text-align: right;\n",
       "    }\n",
       "</style>\n",
       "<table border=\"1\" class=\"dataframe\">\n",
       "  <thead>\n",
       "    <tr style=\"text-align: right;\">\n",
       "      <th></th>\n",
       "      <th>name</th>\n",
       "      <th>author</th>\n",
       "      <th>narrator</th>\n",
       "      <th>time</th>\n",
       "      <th>releasedate</th>\n",
       "      <th>language</th>\n",
       "      <th>stars</th>\n",
       "      <th>price</th>\n",
       "    </tr>\n",
       "  </thead>\n",
       "  <tbody>\n",
       "    <tr>\n",
       "      <th>0</th>\n",
       "      <td>Geronimo Stilton #11 &amp; #12</td>\n",
       "      <td>GeronimoStilton</td>\n",
       "      <td>BillLobely</td>\n",
       "      <td>2 hrs and 20 mins</td>\n",
       "      <td>04-08-08</td>\n",
       "      <td>English</td>\n",
       "      <td>5 out of 5 stars34 ratings</td>\n",
       "      <td>468.00</td>\n",
       "    </tr>\n",
       "    <tr>\n",
       "      <th>1</th>\n",
       "      <td>The Burning Maze</td>\n",
       "      <td>RickRiordan</td>\n",
       "      <td>RobbieDaymond</td>\n",
       "      <td>13 hrs and 8 mins</td>\n",
       "      <td>01-05-18</td>\n",
       "      <td>English</td>\n",
       "      <td>4.5 out of 5 stars41 ratings</td>\n",
       "      <td>820.00</td>\n",
       "    </tr>\n",
       "    <tr>\n",
       "      <th>2</th>\n",
       "      <td>The Deep End</td>\n",
       "      <td>JeffKinney</td>\n",
       "      <td>DanRussell</td>\n",
       "      <td>2 hrs and 3 mins</td>\n",
       "      <td>06-11-20</td>\n",
       "      <td>English</td>\n",
       "      <td>4.5 out of 5 stars38 ratings</td>\n",
       "      <td>410.00</td>\n",
       "    </tr>\n",
       "    <tr>\n",
       "      <th>3</th>\n",
       "      <td>Daughter of the Deep</td>\n",
       "      <td>RickRiordan</td>\n",
       "      <td>SoneelaNankani</td>\n",
       "      <td>11 hrs and 16 mins</td>\n",
       "      <td>05-10-21</td>\n",
       "      <td>English</td>\n",
       "      <td>4.5 out of 5 stars12 ratings</td>\n",
       "      <td>615.00</td>\n",
       "    </tr>\n",
       "    <tr>\n",
       "      <th>4</th>\n",
       "      <td>The Lightning Thief: Percy Jackson, Book 1</td>\n",
       "      <td>RickRiordan</td>\n",
       "      <td>JesseBernstein</td>\n",
       "      <td>10 hrs</td>\n",
       "      <td>13-01-10</td>\n",
       "      <td>English</td>\n",
       "      <td>4.5 out of 5 stars181 ratings</td>\n",
       "      <td>820.00</td>\n",
       "    </tr>\n",
       "  </tbody>\n",
       "</table>\n",
       "</div>"
      ],
      "text/plain": [
       "                                         name           author  \\\n",
       "0                  Geronimo Stilton #11 & #12  GeronimoStilton   \n",
       "1                            The Burning Maze      RickRiordan   \n",
       "2                                The Deep End       JeffKinney   \n",
       "3                        Daughter of the Deep      RickRiordan   \n",
       "4  The Lightning Thief: Percy Jackson, Book 1      RickRiordan   \n",
       "\n",
       "         narrator                time releasedate language  \\\n",
       "0      BillLobely   2 hrs and 20 mins    04-08-08  English   \n",
       "1   RobbieDaymond   13 hrs and 8 mins    01-05-18  English   \n",
       "2      DanRussell    2 hrs and 3 mins    06-11-20  English   \n",
       "3  SoneelaNankani  11 hrs and 16 mins    05-10-21  English   \n",
       "4  JesseBernstein              10 hrs    13-01-10  English   \n",
       "\n",
       "                           stars   price  \n",
       "0     5 out of 5 stars34 ratings  468.00  \n",
       "1   4.5 out of 5 stars41 ratings  820.00  \n",
       "2   4.5 out of 5 stars38 ratings  410.00  \n",
       "3   4.5 out of 5 stars12 ratings  615.00  \n",
       "4  4.5 out of 5 stars181 ratings  820.00  "
      ]
     },
     "execution_count": 4,
     "metadata": {},
     "output_type": "execute_result"
    }
   ],
   "source": [
    "# Remove Writtenby: from the author column\n",
    "df['author'] = df['author'].str.replace('Writtenby:','')\n",
    "# Remove Narratedby: from the narrator column\n",
    "df['narrator'] = df['narrator'].str.replace('Narratedby:','')\n",
    "# Check the results\n",
    "df.head()"
   ]
  },
  {
   "cell_type": "markdown",
   "id": "7a171579-a305-41b7-b060-c097e07f9c54",
   "metadata": {},
   "source": [
    "## Task 3: Extract number of stars and ratings from Stars column.\n",
    "\n",
    "The `stars` column combines the number of stars and the number of ratins. Let's turn this into numbers and split it into two columns: `rating_stars` and `n_ratings`.\n",
    "\n",
    "First we will use the `.sample()` method to get a glimpse at the type of entries in that column."
   ]
  },
  {
   "cell_type": "code",
   "execution_count": 5,
   "id": "d87f3a1c-b75d-4625-ace5-db1e8cf5a291",
   "metadata": {
    "executionCancelledAt": null,
    "executionTime": null,
    "lastExecutedAt": null,
    "lastExecutedByKernel": null,
    "lastScheduledRunId": null,
    "lastSuccessfullyExecutedCode": null,
    "outputsMetadata": {
     "0": {
      "height": 384,
      "tableState": {
       "customFilter": {
        "const": {
         "type": "boolean",
         "valid": true,
         "value": true
        },
        "id": "f2b04d49-a2bb-4254-a505-3729d6d7bc75",
        "nodeType": "const"
       }
      },
      "type": "dataFrame"
     }
    }
   },
   "outputs": [
    {
     "data": {
      "text/plain": [
       "25716    4 out of 5 stars15 ratings\n",
       "68706                 Not rated yet\n",
       "82570                 Not rated yet\n",
       "68408                 Not rated yet\n",
       "29221                 Not rated yet\n",
       "6788                  Not rated yet\n",
       "3152       5 out of 5 stars1 rating\n",
       "56146                 Not rated yet\n",
       "83316                 Not rated yet\n",
       "30964                 Not rated yet\n",
       "Name: stars, dtype: object"
      ]
     },
     "execution_count": 5,
     "metadata": {},
     "output_type": "execute_result"
    }
   ],
   "source": [
    "# Get a glimpse of the stars column\n",
    "df['stars'].sample(n=10)"
   ]
  },
  {
   "cell_type": "markdown",
   "id": "74f20a83-61ef-492a-adcc-eb09d722b231",
   "metadata": {},
   "source": [
    "Since there are many instances of `Not rated yet`, let's filter them out and sample again:"
   ]
  },
  {
   "cell_type": "code",
   "execution_count": 6,
   "id": "096674e7-8bdb-4aee-9a0e-7f8464c9affd",
   "metadata": {
    "executionCancelledAt": null,
    "executionTime": 37,
    "lastExecutedAt": 1748142382168,
    "lastExecutedByKernel": "f1fefd03-4721-4032-a2f5-9594c5eae1aa",
    "lastScheduledRunId": null,
    "lastSuccessfullyExecutedCode": "# Explore the values of the star column that are not 'Not rated yet'\ndf[df['stars'] != 'Not rated yet'].stars.sample(n=10)",
    "outputsMetadata": {
     "0": {
      "height": 384,
      "tableState": {
       "customFilter": {
        "const": {
         "type": "boolean",
         "valid": true,
         "value": true
        },
        "id": "f2b04d49-a2bb-4254-a505-3729d6d7bc75",
        "nodeType": "const"
       }
      },
      "type": "dataFrame"
     }
    }
   },
   "outputs": [
    {
     "data": {
      "text/plain": [
       "54955      5 out of 5 stars4 ratings\n",
       "27329      5 out of 5 stars6 ratings\n",
       "4501        5 out of 5 stars1 rating\n",
       "19455      5 out of 5 stars8 ratings\n",
       "71553       4 out of 5 stars1 rating\n",
       "18335     4 out of 5 stars20 ratings\n",
       "59657       3 out of 5 stars1 rating\n",
       "84765      5 out of 5 stars4 ratings\n",
       "43751       2 out of 5 stars1 rating\n",
       "5445     4.5 out of 5 stars2 ratings\n",
       "Name: stars, dtype: object"
      ]
     },
     "execution_count": 6,
     "metadata": {},
     "output_type": "execute_result"
    }
   ],
   "source": [
    "# Explore the values of the star column that are not 'Not rated yet'\n",
    "df[df['stars'] != 'Not rated yet'].stars.sample(n=10)"
   ]
  },
  {
   "cell_type": "markdown",
   "id": "668b92e7-9a53-4f76-be13-e4721daebf56",
   "metadata": {},
   "source": [
    "As a first step, we can replace the instances of `Not rated yet` with `NaN`"
   ]
  },
  {
   "cell_type": "code",
   "execution_count": 7,
   "id": "b98dc637-16c5-4dba-857f-62e3fb290045",
   "metadata": {
    "executionCancelledAt": null,
    "executionTime": 52,
    "lastExecutedAt": 1748142496873,
    "lastExecutedByKernel": "f1fefd03-4721-4032-a2f5-9594c5eae1aa",
    "lastScheduledRunId": null,
    "lastSuccessfullyExecutedCode": "# Replace 'Not rated yet' with NaN\ndf['stars'] = df['stars'].str.replace('Not rated yet', 'NaN')"
   },
   "outputs": [],
   "source": [
    "# Replace 'Not rated yet' with NaN\n",
    "df['stars'] = df['stars'].str.replace('Not rated yet', 'NaN')"
   ]
  },
  {
   "cell_type": "markdown",
   "id": "86876dd4-20a8-41a4-b5ca-9dfbfcc1dec2",
   "metadata": {},
   "source": [
    "We can use `.str.extract()` to get the number of stars and the number of ratings into their own columns.\n",
    "\n",
    "### Instructions:\n",
    "* Extract the number of stars into the `rating_stars` column\n",
    "* Extract the number of ratings into the `n_ratings` column\n",
    "* Convert both new columns to float"
   ]
  },
  {
   "cell_type": "code",
   "execution_count": 8,
   "id": "80dfd44d-1ad1-443b-91c1-71092ce327b2",
   "metadata": {
    "executionCancelledAt": null,
    "executionTime": null,
    "lastExecutedAt": null,
    "lastExecutedByKernel": null,
    "lastScheduledRunId": null,
    "lastSuccessfullyExecutedCode": null,
    "outputsMetadata": {
     "0": {
      "height": 550,
      "tableState": {
       "customFilter": {
        "const": {
         "type": "boolean",
         "valid": true,
         "value": true
        },
        "id": "f2b04d49-a2bb-4254-a505-3729d6d7bc75",
        "nodeType": "const"
       }
      },
      "type": "dataFrame"
     }
    }
   },
   "outputs": [
    {
     "data": {
      "text/html": [
       "<div>\n",
       "<style scoped>\n",
       "    .dataframe tbody tr th:only-of-type {\n",
       "        vertical-align: middle;\n",
       "    }\n",
       "\n",
       "    .dataframe tbody tr th {\n",
       "        vertical-align: top;\n",
       "    }\n",
       "\n",
       "    .dataframe thead th {\n",
       "        text-align: right;\n",
       "    }\n",
       "</style>\n",
       "<table border=\"1\" class=\"dataframe\">\n",
       "  <thead>\n",
       "    <tr style=\"text-align: right;\">\n",
       "      <th></th>\n",
       "      <th>rating_stars</th>\n",
       "      <th>n_ratings</th>\n",
       "    </tr>\n",
       "  </thead>\n",
       "  <tbody>\n",
       "    <tr>\n",
       "      <th>0</th>\n",
       "      <td>5.0</td>\n",
       "      <td>34.0</td>\n",
       "    </tr>\n",
       "    <tr>\n",
       "      <th>1</th>\n",
       "      <td>4.5</td>\n",
       "      <td>41.0</td>\n",
       "    </tr>\n",
       "    <tr>\n",
       "      <th>2</th>\n",
       "      <td>4.5</td>\n",
       "      <td>38.0</td>\n",
       "    </tr>\n",
       "    <tr>\n",
       "      <th>3</th>\n",
       "      <td>4.5</td>\n",
       "      <td>12.0</td>\n",
       "    </tr>\n",
       "    <tr>\n",
       "      <th>4</th>\n",
       "      <td>4.5</td>\n",
       "      <td>181.0</td>\n",
       "    </tr>\n",
       "    <tr>\n",
       "      <th>...</th>\n",
       "      <td>...</td>\n",
       "      <td>...</td>\n",
       "    </tr>\n",
       "    <tr>\n",
       "      <th>87484</th>\n",
       "      <td>NaN</td>\n",
       "      <td>NaN</td>\n",
       "    </tr>\n",
       "    <tr>\n",
       "      <th>87485</th>\n",
       "      <td>NaN</td>\n",
       "      <td>NaN</td>\n",
       "    </tr>\n",
       "    <tr>\n",
       "      <th>87486</th>\n",
       "      <td>NaN</td>\n",
       "      <td>NaN</td>\n",
       "    </tr>\n",
       "    <tr>\n",
       "      <th>87487</th>\n",
       "      <td>NaN</td>\n",
       "      <td>NaN</td>\n",
       "    </tr>\n",
       "    <tr>\n",
       "      <th>87488</th>\n",
       "      <td>NaN</td>\n",
       "      <td>NaN</td>\n",
       "    </tr>\n",
       "  </tbody>\n",
       "</table>\n",
       "<p>87489 rows × 2 columns</p>\n",
       "</div>"
      ],
      "text/plain": [
       "       rating_stars  n_ratings\n",
       "0               5.0       34.0\n",
       "1               4.5       41.0\n",
       "2               4.5       38.0\n",
       "3               4.5       12.0\n",
       "4               4.5      181.0\n",
       "...             ...        ...\n",
       "87484           NaN        NaN\n",
       "87485           NaN        NaN\n",
       "87486           NaN        NaN\n",
       "87487           NaN        NaN\n",
       "87488           NaN        NaN\n",
       "\n",
       "[87489 rows x 2 columns]"
      ]
     },
     "execution_count": 8,
     "metadata": {},
     "output_type": "execute_result"
    }
   ],
   "source": [
    "# Extract number of stars into rating_stars and turn into float\n",
    "df['rating_stars'] = df['stars'].str.extract('^([\\d.]+)').astype('float')\n",
    "# Replace the comma, extract number of ratings into n_ratings and turn into float\n",
    "df['n_ratings'] = df['stars'].str.extract('(\\d+(?:,\\d+)?) rating')[0].str.replace(',', '').astype('float', errors='ignore')\n",
    "# Examine the new rating_stars and n_ratings columns\n",
    "df[['rating_stars', 'n_ratings']]"
   ]
  },
  {
   "cell_type": "markdown",
   "id": "fb4a3883-44f0-44fb-bb6c-29f074bf73bb",
   "metadata": {},
   "source": [
    "As a last step, let's delete the `stars` column using the `.drop` command:"
   ]
  },
  {
   "cell_type": "code",
   "execution_count": 9,
   "id": "c55c7d51-dc39-44d9-85d3-f01c81ac55a1",
   "metadata": {
    "executionCancelledAt": null,
    "executionTime": null,
    "lastExecutedAt": null,
    "lastExecutedByKernel": null,
    "lastScheduledRunId": null,
    "lastSuccessfullyExecutedCode": null,
    "outputsMetadata": {
     "0": {
      "height": 50,
      "tableState": {
       "customFilter": {
        "const": {
         "type": "boolean",
         "valid": true,
         "value": true
        },
        "id": "f2b04d49-a2bb-4254-a505-3729d6d7bc75",
        "nodeType": "const"
       }
      },
      "type": "dataFrame"
     }
    }
   },
   "outputs": [
    {
     "data": {
      "text/html": [
       "<div>\n",
       "<style scoped>\n",
       "    .dataframe tbody tr th:only-of-type {\n",
       "        vertical-align: middle;\n",
       "    }\n",
       "\n",
       "    .dataframe tbody tr th {\n",
       "        vertical-align: top;\n",
       "    }\n",
       "\n",
       "    .dataframe thead th {\n",
       "        text-align: right;\n",
       "    }\n",
       "</style>\n",
       "<table border=\"1\" class=\"dataframe\">\n",
       "  <thead>\n",
       "    <tr style=\"text-align: right;\">\n",
       "      <th></th>\n",
       "      <th>name</th>\n",
       "      <th>author</th>\n",
       "      <th>narrator</th>\n",
       "      <th>time</th>\n",
       "      <th>releasedate</th>\n",
       "      <th>language</th>\n",
       "      <th>price</th>\n",
       "      <th>rating_stars</th>\n",
       "      <th>n_ratings</th>\n",
       "    </tr>\n",
       "  </thead>\n",
       "  <tbody>\n",
       "    <tr>\n",
       "      <th>0</th>\n",
       "      <td>Geronimo Stilton #11 &amp; #12</td>\n",
       "      <td>GeronimoStilton</td>\n",
       "      <td>BillLobely</td>\n",
       "      <td>2 hrs and 20 mins</td>\n",
       "      <td>04-08-08</td>\n",
       "      <td>English</td>\n",
       "      <td>468.00</td>\n",
       "      <td>5.0</td>\n",
       "      <td>34.0</td>\n",
       "    </tr>\n",
       "    <tr>\n",
       "      <th>1</th>\n",
       "      <td>The Burning Maze</td>\n",
       "      <td>RickRiordan</td>\n",
       "      <td>RobbieDaymond</td>\n",
       "      <td>13 hrs and 8 mins</td>\n",
       "      <td>01-05-18</td>\n",
       "      <td>English</td>\n",
       "      <td>820.00</td>\n",
       "      <td>4.5</td>\n",
       "      <td>41.0</td>\n",
       "    </tr>\n",
       "    <tr>\n",
       "      <th>2</th>\n",
       "      <td>The Deep End</td>\n",
       "      <td>JeffKinney</td>\n",
       "      <td>DanRussell</td>\n",
       "      <td>2 hrs and 3 mins</td>\n",
       "      <td>06-11-20</td>\n",
       "      <td>English</td>\n",
       "      <td>410.00</td>\n",
       "      <td>4.5</td>\n",
       "      <td>38.0</td>\n",
       "    </tr>\n",
       "    <tr>\n",
       "      <th>3</th>\n",
       "      <td>Daughter of the Deep</td>\n",
       "      <td>RickRiordan</td>\n",
       "      <td>SoneelaNankani</td>\n",
       "      <td>11 hrs and 16 mins</td>\n",
       "      <td>05-10-21</td>\n",
       "      <td>English</td>\n",
       "      <td>615.00</td>\n",
       "      <td>4.5</td>\n",
       "      <td>12.0</td>\n",
       "    </tr>\n",
       "    <tr>\n",
       "      <th>4</th>\n",
       "      <td>The Lightning Thief: Percy Jackson, Book 1</td>\n",
       "      <td>RickRiordan</td>\n",
       "      <td>JesseBernstein</td>\n",
       "      <td>10 hrs</td>\n",
       "      <td>13-01-10</td>\n",
       "      <td>English</td>\n",
       "      <td>820.00</td>\n",
       "      <td>4.5</td>\n",
       "      <td>181.0</td>\n",
       "    </tr>\n",
       "  </tbody>\n",
       "</table>\n",
       "</div>"
      ],
      "text/plain": [
       "                                         name           author  \\\n",
       "0                  Geronimo Stilton #11 & #12  GeronimoStilton   \n",
       "1                            The Burning Maze      RickRiordan   \n",
       "2                                The Deep End       JeffKinney   \n",
       "3                        Daughter of the Deep      RickRiordan   \n",
       "4  The Lightning Thief: Percy Jackson, Book 1      RickRiordan   \n",
       "\n",
       "         narrator                time releasedate language   price  \\\n",
       "0      BillLobely   2 hrs and 20 mins    04-08-08  English  468.00   \n",
       "1   RobbieDaymond   13 hrs and 8 mins    01-05-18  English  820.00   \n",
       "2      DanRussell    2 hrs and 3 mins    06-11-20  English  410.00   \n",
       "3  SoneelaNankani  11 hrs and 16 mins    05-10-21  English  615.00   \n",
       "4  JesseBernstein              10 hrs    13-01-10  English  820.00   \n",
       "\n",
       "   rating_stars  n_ratings  \n",
       "0           5.0       34.0  \n",
       "1           4.5       41.0  \n",
       "2           4.5       38.0  \n",
       "3           4.5       12.0  \n",
       "4           4.5      181.0  "
      ]
     },
     "execution_count": 9,
     "metadata": {},
     "output_type": "execute_result"
    }
   ],
   "source": [
    "# Drop the stars column\n",
    "df = df.drop(columns=['stars'], axis=1)\n",
    "# Check the results\n",
    "df.head()"
   ]
  },
  {
   "cell_type": "markdown",
   "id": "4ce12839-cd89-4ca3-8797-1c69f5b63f89",
   "metadata": {},
   "source": [
    "## Task 4: Change data types\n",
    "\n",
    "Another important step is to have our data in the correct data types\n",
    "\n",
    "### Instructions:\n",
    "* Set `price` to float\n",
    "* Turn `rating_stars` to category\n",
    "* Convert `releasedate` to datetime"
   ]
  },
  {
   "cell_type": "markdown",
   "id": "f84e4272-52c9-4f9d-974c-335c46c282bd",
   "metadata": {},
   "source": [
    "We need to get rid of the comma and the word 'Free' before we can convert the data."
   ]
  },
  {
   "cell_type": "code",
   "execution_count": 11,
   "id": "76e75c2f-818f-4ae0-88c6-de8fb65b2052",
   "metadata": {
    "executionCancelledAt": null,
    "executionTime": 78,
    "lastExecutedAt": 1748143652620,
    "lastExecutedByKernel": "f1fefd03-4721-4032-a2f5-9594c5eae1aa",
    "lastScheduledRunId": null,
    "lastSuccessfullyExecutedCode": "# Replace the comma with ''\ndf['price'] = df['price'].str.replace(',', '')\n# Replace 'Free' with 0\ndf['price'] = df['price'].str.replace('Free', '0')\n# Turn price to float\ndf['price'] = df['price'].astype('float')"
   },
   "outputs": [],
   "source": [
    "# Replace the comma with ''\n",
    "df['price'] = df['price'].str.replace(',', '')\n",
    "# Replace 'Free' with 0\n",
    "df['price'] = df['price'].str.replace('Free', '0')\n",
    "# Turn price to float\n",
    "df['price'] = df['price'].astype('float')"
   ]
  },
  {
   "cell_type": "markdown",
   "id": "6500fe18-8bf9-4a9a-9733-420afe328180",
   "metadata": {},
   "source": [
    "* Turn `rating_stars` to category\n",
    "\n",
    "Since `stars` can only take a small number of discrete values, the best data type for the column is `category`.\n",
    "\n",
    "Let's first look at the unique values in that column to confirm:"
   ]
  },
  {
   "cell_type": "code",
   "execution_count": 12,
   "id": "0c147230-c83f-46b8-a01b-f67b1a79157c",
   "metadata": {
    "executionCancelledAt": null,
    "executionTime": 14,
    "lastExecutedAt": 1748143702407,
    "lastExecutedByKernel": "f1fefd03-4721-4032-a2f5-9594c5eae1aa",
    "lastScheduledRunId": null,
    "lastSuccessfullyExecutedCode": "# Look at the unique values in the rating_stars column\ndf['rating_stars'].nunique()"
   },
   "outputs": [
    {
     "data": {
      "text/plain": [
       "9"
      ]
     },
     "execution_count": 12,
     "metadata": {},
     "output_type": "execute_result"
    }
   ],
   "source": [
    "# Look at the unique values in the rating_stars column\n",
    "df['rating_stars'].nunique()"
   ]
  },
  {
   "cell_type": "markdown",
   "id": "d00d6894-506b-45b7-8fbc-c3c158d37b98",
   "metadata": {},
   "source": [
    "We can now use `.astype` to change the data type."
   ]
  },
  {
   "cell_type": "code",
   "execution_count": 13,
   "id": "9802dca4-e90a-48d6-a450-bb59c9f22f64",
   "metadata": {
    "executionCancelledAt": null,
    "executionTime": 12,
    "lastExecutedAt": 1703636784744,
    "lastScheduledRunId": null,
    "lastSuccessfullyExecutedCode": "# Turn rating_stars to category\n"
   },
   "outputs": [],
   "source": [
    "# Turn rating_stars to category\n",
    "df['rating_stars'] = df['rating_stars'].astype('category')"
   ]
  },
  {
   "cell_type": "markdown",
   "id": "4020a811-4a1e-4e4b-aee6-96db2cd89ac5",
   "metadata": {},
   "source": [
    "* Convert `releasedate` date to datetime\n",
    "\n",
    "Here we will use the `to_datetime()` function to turn the dates into datetime objects:"
   ]
  },
  {
   "cell_type": "code",
   "execution_count": 14,
   "id": "89b25e98-de84-4bb8-b650-676a81a4682c",
   "metadata": {
    "executionCancelledAt": null,
    "executionTime": 11,
    "lastExecutedAt": 1703636790861,
    "lastScheduledRunId": null,
    "lastSuccessfullyExecutedCode": "# Convert releasedate to datetime\n\n# Inspect the dataframe \n",
    "outputsMetadata": {
     "0": {
      "height": 337,
      "type": "stream"
     }
    }
   },
   "outputs": [
    {
     "name": "stderr",
     "output_type": "stream",
     "text": [
      "/var/folders/rk/vsbmyjqx09n87m8t22syxyvr0000gn/T/ipykernel_10867/1015981186.py:2: UserWarning: Could not infer format, so each element will be parsed individually, falling back to `dateutil`. To ensure parsing is consistent and as-expected, please specify a format.\n",
      "  df['releasedate'] = pd.to_datetime(df['releasedate'])\n"
     ]
    },
    {
     "data": {
      "text/html": [
       "<div>\n",
       "<style scoped>\n",
       "    .dataframe tbody tr th:only-of-type {\n",
       "        vertical-align: middle;\n",
       "    }\n",
       "\n",
       "    .dataframe tbody tr th {\n",
       "        vertical-align: top;\n",
       "    }\n",
       "\n",
       "    .dataframe thead th {\n",
       "        text-align: right;\n",
       "    }\n",
       "</style>\n",
       "<table border=\"1\" class=\"dataframe\">\n",
       "  <thead>\n",
       "    <tr style=\"text-align: right;\">\n",
       "      <th></th>\n",
       "      <th>name</th>\n",
       "      <th>author</th>\n",
       "      <th>narrator</th>\n",
       "      <th>time</th>\n",
       "      <th>releasedate</th>\n",
       "      <th>language</th>\n",
       "      <th>price</th>\n",
       "      <th>rating_stars</th>\n",
       "      <th>n_ratings</th>\n",
       "    </tr>\n",
       "  </thead>\n",
       "  <tbody>\n",
       "    <tr>\n",
       "      <th>0</th>\n",
       "      <td>Geronimo Stilton #11 &amp; #12</td>\n",
       "      <td>GeronimoStilton</td>\n",
       "      <td>BillLobely</td>\n",
       "      <td>2 hrs and 20 mins</td>\n",
       "      <td>2008-04-08</td>\n",
       "      <td>English</td>\n",
       "      <td>468.0</td>\n",
       "      <td>5.0</td>\n",
       "      <td>34.0</td>\n",
       "    </tr>\n",
       "    <tr>\n",
       "      <th>1</th>\n",
       "      <td>The Burning Maze</td>\n",
       "      <td>RickRiordan</td>\n",
       "      <td>RobbieDaymond</td>\n",
       "      <td>13 hrs and 8 mins</td>\n",
       "      <td>2018-01-05</td>\n",
       "      <td>English</td>\n",
       "      <td>820.0</td>\n",
       "      <td>4.5</td>\n",
       "      <td>41.0</td>\n",
       "    </tr>\n",
       "    <tr>\n",
       "      <th>2</th>\n",
       "      <td>The Deep End</td>\n",
       "      <td>JeffKinney</td>\n",
       "      <td>DanRussell</td>\n",
       "      <td>2 hrs and 3 mins</td>\n",
       "      <td>2020-06-11</td>\n",
       "      <td>English</td>\n",
       "      <td>410.0</td>\n",
       "      <td>4.5</td>\n",
       "      <td>38.0</td>\n",
       "    </tr>\n",
       "    <tr>\n",
       "      <th>3</th>\n",
       "      <td>Daughter of the Deep</td>\n",
       "      <td>RickRiordan</td>\n",
       "      <td>SoneelaNankani</td>\n",
       "      <td>11 hrs and 16 mins</td>\n",
       "      <td>2021-05-10</td>\n",
       "      <td>English</td>\n",
       "      <td>615.0</td>\n",
       "      <td>4.5</td>\n",
       "      <td>12.0</td>\n",
       "    </tr>\n",
       "    <tr>\n",
       "      <th>4</th>\n",
       "      <td>The Lightning Thief: Percy Jackson, Book 1</td>\n",
       "      <td>RickRiordan</td>\n",
       "      <td>JesseBernstein</td>\n",
       "      <td>10 hrs</td>\n",
       "      <td>2010-01-13</td>\n",
       "      <td>English</td>\n",
       "      <td>820.0</td>\n",
       "      <td>4.5</td>\n",
       "      <td>181.0</td>\n",
       "    </tr>\n",
       "  </tbody>\n",
       "</table>\n",
       "</div>"
      ],
      "text/plain": [
       "                                         name           author  \\\n",
       "0                  Geronimo Stilton #11 & #12  GeronimoStilton   \n",
       "1                            The Burning Maze      RickRiordan   \n",
       "2                                The Deep End       JeffKinney   \n",
       "3                        Daughter of the Deep      RickRiordan   \n",
       "4  The Lightning Thief: Percy Jackson, Book 1      RickRiordan   \n",
       "\n",
       "         narrator                time releasedate language  price  \\\n",
       "0      BillLobely   2 hrs and 20 mins  2008-04-08  English  468.0   \n",
       "1   RobbieDaymond   13 hrs and 8 mins  2018-01-05  English  820.0   \n",
       "2      DanRussell    2 hrs and 3 mins  2020-06-11  English  410.0   \n",
       "3  SoneelaNankani  11 hrs and 16 mins  2021-05-10  English  615.0   \n",
       "4  JesseBernstein              10 hrs  2010-01-13  English  820.0   \n",
       "\n",
       "  rating_stars  n_ratings  \n",
       "0          5.0       34.0  \n",
       "1          4.5       41.0  \n",
       "2          4.5       38.0  \n",
       "3          4.5       12.0  \n",
       "4          4.5      181.0  "
      ]
     },
     "execution_count": 14,
     "metadata": {},
     "output_type": "execute_result"
    }
   ],
   "source": [
    "# Convert releasedate to datetime\n",
    "df['releasedate'] = pd.to_datetime(df['releasedate'])\n",
    "# Inspect the dataframe \n",
    "df.head()"
   ]
  },
  {
   "cell_type": "markdown",
   "id": "a59566a9-7aaa-456e-a356-b063ac339d89",
   "metadata": {},
   "source": [
    "## Task 5: Extract hours and minutes from the `time` column\n",
    "\n",
    "The `time` column combines the number of hours and minutes into one column. We want to transform and consolidate the information into a new `time_minutes` column."
   ]
  },
  {
   "cell_type": "code",
   "execution_count": 15,
   "id": "1501ea8d-01d6-4ca3-98f5-82ee316280ef",
   "metadata": {
    "executionCancelledAt": null,
    "executionTime": null,
    "lastExecutedAt": null,
    "lastExecutedByKernel": null,
    "lastScheduledRunId": null,
    "lastSuccessfullyExecutedCode": null,
    "outputsMetadata": {
     "0": {
      "height": 50,
      "tableState": {
       "customFilter": {
        "const": {
         "type": "boolean",
         "valid": true,
         "value": true
        },
        "id": "f2b04d49-a2bb-4254-a505-3729d6d7bc75",
        "nodeType": "const"
       }
      },
      "type": "dataFrame"
     }
    }
   },
   "outputs": [
    {
     "data": {
      "text/html": [
       "<div>\n",
       "<style scoped>\n",
       "    .dataframe tbody tr th:only-of-type {\n",
       "        vertical-align: middle;\n",
       "    }\n",
       "\n",
       "    .dataframe tbody tr th {\n",
       "        vertical-align: top;\n",
       "    }\n",
       "\n",
       "    .dataframe thead th {\n",
       "        text-align: right;\n",
       "    }\n",
       "</style>\n",
       "<table border=\"1\" class=\"dataframe\">\n",
       "  <thead>\n",
       "    <tr style=\"text-align: right;\">\n",
       "      <th></th>\n",
       "      <th>name</th>\n",
       "      <th>author</th>\n",
       "      <th>narrator</th>\n",
       "      <th>time</th>\n",
       "      <th>releasedate</th>\n",
       "      <th>language</th>\n",
       "      <th>price</th>\n",
       "      <th>rating_stars</th>\n",
       "      <th>n_ratings</th>\n",
       "    </tr>\n",
       "  </thead>\n",
       "  <tbody>\n",
       "    <tr>\n",
       "      <th>0</th>\n",
       "      <td>Geronimo Stilton #11 &amp; #12</td>\n",
       "      <td>GeronimoStilton</td>\n",
       "      <td>BillLobely</td>\n",
       "      <td>2 hrs and 20 mins</td>\n",
       "      <td>2008-04-08</td>\n",
       "      <td>English</td>\n",
       "      <td>468.0</td>\n",
       "      <td>5.0</td>\n",
       "      <td>34.0</td>\n",
       "    </tr>\n",
       "    <tr>\n",
       "      <th>1</th>\n",
       "      <td>The Burning Maze</td>\n",
       "      <td>RickRiordan</td>\n",
       "      <td>RobbieDaymond</td>\n",
       "      <td>13 hrs and 8 mins</td>\n",
       "      <td>2018-01-05</td>\n",
       "      <td>English</td>\n",
       "      <td>820.0</td>\n",
       "      <td>4.5</td>\n",
       "      <td>41.0</td>\n",
       "    </tr>\n",
       "    <tr>\n",
       "      <th>2</th>\n",
       "      <td>The Deep End</td>\n",
       "      <td>JeffKinney</td>\n",
       "      <td>DanRussell</td>\n",
       "      <td>2 hrs and 3 mins</td>\n",
       "      <td>2020-06-11</td>\n",
       "      <td>English</td>\n",
       "      <td>410.0</td>\n",
       "      <td>4.5</td>\n",
       "      <td>38.0</td>\n",
       "    </tr>\n",
       "    <tr>\n",
       "      <th>3</th>\n",
       "      <td>Daughter of the Deep</td>\n",
       "      <td>RickRiordan</td>\n",
       "      <td>SoneelaNankani</td>\n",
       "      <td>11 hrs and 16 mins</td>\n",
       "      <td>2021-05-10</td>\n",
       "      <td>English</td>\n",
       "      <td>615.0</td>\n",
       "      <td>4.5</td>\n",
       "      <td>12.0</td>\n",
       "    </tr>\n",
       "    <tr>\n",
       "      <th>4</th>\n",
       "      <td>The Lightning Thief: Percy Jackson, Book 1</td>\n",
       "      <td>RickRiordan</td>\n",
       "      <td>JesseBernstein</td>\n",
       "      <td>10 hrs</td>\n",
       "      <td>2010-01-13</td>\n",
       "      <td>English</td>\n",
       "      <td>820.0</td>\n",
       "      <td>4.5</td>\n",
       "      <td>181.0</td>\n",
       "    </tr>\n",
       "  </tbody>\n",
       "</table>\n",
       "</div>"
      ],
      "text/plain": [
       "                                         name           author  \\\n",
       "0                  Geronimo Stilton #11 & #12  GeronimoStilton   \n",
       "1                            The Burning Maze      RickRiordan   \n",
       "2                                The Deep End       JeffKinney   \n",
       "3                        Daughter of the Deep      RickRiordan   \n",
       "4  The Lightning Thief: Percy Jackson, Book 1      RickRiordan   \n",
       "\n",
       "         narrator                time releasedate language  price  \\\n",
       "0      BillLobely   2 hrs and 20 mins  2008-04-08  English  468.0   \n",
       "1   RobbieDaymond   13 hrs and 8 mins  2018-01-05  English  820.0   \n",
       "2      DanRussell    2 hrs and 3 mins  2020-06-11  English  410.0   \n",
       "3  SoneelaNankani  11 hrs and 16 mins  2021-05-10  English  615.0   \n",
       "4  JesseBernstein              10 hrs  2010-01-13  English  820.0   \n",
       "\n",
       "  rating_stars  n_ratings  \n",
       "0          5.0       34.0  \n",
       "1          4.5       41.0  \n",
       "2          4.5       38.0  \n",
       "3          4.5       12.0  \n",
       "4          4.5      181.0  "
      ]
     },
     "execution_count": 15,
     "metadata": {},
     "output_type": "execute_result"
    }
   ],
   "source": [
    "df.head()"
   ]
  },
  {
   "cell_type": "code",
   "execution_count": 16,
   "id": "120dc06a-96fb-45aa-8e3b-eb079da54a3a",
   "metadata": {
    "executionCancelledAt": null,
    "executionTime": null,
    "lastExecutedAt": null,
    "lastExecutedByKernel": null,
    "lastScheduledRunId": null,
    "lastSuccessfullyExecutedCode": null,
    "outputsMetadata": {
     "0": {
      "height": 86,
      "tableState": {
       "customFilter": {
        "const": {
         "type": "boolean",
         "valid": true,
         "value": true
        },
        "id": "f2b04d49-a2bb-4254-a505-3729d6d7bc75",
        "nodeType": "const"
       }
      },
      "type": "dataFrame"
     }
    }
   },
   "outputs": [
    {
     "data": {
      "text/plain": [
       "time\n",
       "58 hrs and 17 mins     1\n",
       "81 hrs and 2 mins      1\n",
       "26 hrs and 33 mins     3\n",
       "4 hrs and 14 mins     83\n",
       "34 hrs and 10 mins     1\n",
       "32 hrs and 48 mins     2\n",
       "18 hrs and 23 mins     5\n",
       "16 hrs and 42 mins    16\n",
       "35 hrs and 29 mins     1\n",
       "2 hrs and 1 min       70\n",
       "Name: count, dtype: int64"
      ]
     },
     "execution_count": 16,
     "metadata": {},
     "output_type": "execute_result"
    }
   ],
   "source": [
    "# Explore the values in the time column\n",
    "df['time'].value_counts().sample(n=10)"
   ]
  },
  {
   "cell_type": "markdown",
   "id": "9e345ee7-94dd-4389-8799-2248782c5112",
   "metadata": {},
   "source": [
    "Let's see what other ways they have encoded `min` or `minutes`:"
   ]
  },
  {
   "cell_type": "code",
   "execution_count": 17,
   "id": "cb2df360-60a2-4c31-93e5-2bb322decbf6",
   "metadata": {
    "executionCancelledAt": null,
    "executionTime": 149,
    "lastExecutedAt": 1748145049413,
    "lastExecutedByKernel": "f1fefd03-4721-4032-a2f5-9594c5eae1aa",
    "lastScheduledRunId": null,
    "lastSuccessfullyExecutedCode": "# Search the entries in the time column for different spellings of min. Let' try min, mins, minutes\ndf['time'].str.contains('minutes')",
    "outputsMetadata": {
     "0": {
      "height": 550,
      "tableState": {},
      "type": "dataFrame"
     }
    }
   },
   "outputs": [
    {
     "data": {
      "text/plain": [
       "0        False\n",
       "1        False\n",
       "2        False\n",
       "3        False\n",
       "4        False\n",
       "         ...  \n",
       "87484    False\n",
       "87485    False\n",
       "87486    False\n",
       "87487    False\n",
       "87488    False\n",
       "Name: time, Length: 87489, dtype: bool"
      ]
     },
     "execution_count": 17,
     "metadata": {},
     "output_type": "execute_result"
    }
   ],
   "source": [
    "# Search the entries in the time column for different spellings of min. Let' try min, mins, minutes\n",
    "df['time'].str.contains('minutes')"
   ]
  },
  {
   "cell_type": "markdown",
   "id": "d2bc14b0-253c-4f26-91ee-37ab37e8e8b2",
   "metadata": {},
   "source": [
    "We can see that we need to fix the following:\n",
    "* hr, hrs -> consolidate as `hr`\n",
    "* min, mins -> consolidate as `min`\n",
    "* Less than 1 minute -> round to 1 min"
   ]
  },
  {
   "cell_type": "code",
   "execution_count": 18,
   "id": "6f0817a3-4953-430e-98d1-2a743643c280",
   "metadata": {
    "executionCancelledAt": null,
    "executionTime": 142,
    "lastExecutedAt": 1748144886602,
    "lastExecutedByKernel": "f1fefd03-4721-4032-a2f5-9594c5eae1aa",
    "lastScheduledRunId": null,
    "lastSuccessfullyExecutedCode": "# Replace hrs, mins, and 'Less than 1 minute'\ndf['time'] = df['time'].str.replace('hrs', 'hr')\ndf['time'] = df['time'].str.replace('mins', 'min')\ndf['time'] = df['time'].str.replace('Less than 1 minute', '1 min')"
   },
   "outputs": [],
   "source": [
    "# Replace hrs, mins, and 'Less than 1 minute'\n",
    "df['time'] = df['time'].str.replace('hrs', 'hr')\n",
    "df['time'] = df['time'].str.replace('mins', 'min')\n",
    "df['time'] = df['time'].str.replace('Less than 1 minute', '1 min')"
   ]
  },
  {
   "cell_type": "markdown",
   "id": "0fbd3f46-a515-45de-a11d-95924ca328d2",
   "metadata": {},
   "source": [
    "Let's see how it looks now:"
   ]
  },
  {
   "cell_type": "code",
   "execution_count": 19,
   "id": "3bd64428-7256-44c6-b725-86cd38e86e63",
   "metadata": {
    "executionCancelledAt": null,
    "executionTime": null,
    "lastExecutedAt": null,
    "lastExecutedByKernel": null,
    "lastScheduledRunId": null,
    "lastSuccessfullyExecutedCode": null,
    "outputsMetadata": {
     "0": {
      "height": 50,
      "tableState": {
       "customFilter": {
        "const": {
         "type": "boolean",
         "valid": true,
         "value": true
        },
        "id": "f2b04d49-a2bb-4254-a505-3729d6d7bc75",
        "nodeType": "const"
       }
      },
      "type": "dataFrame"
     }
    }
   },
   "outputs": [
    {
     "data": {
      "text/html": [
       "<div>\n",
       "<style scoped>\n",
       "    .dataframe tbody tr th:only-of-type {\n",
       "        vertical-align: middle;\n",
       "    }\n",
       "\n",
       "    .dataframe tbody tr th {\n",
       "        vertical-align: top;\n",
       "    }\n",
       "\n",
       "    .dataframe thead th {\n",
       "        text-align: right;\n",
       "    }\n",
       "</style>\n",
       "<table border=\"1\" class=\"dataframe\">\n",
       "  <thead>\n",
       "    <tr style=\"text-align: right;\">\n",
       "      <th></th>\n",
       "      <th>name</th>\n",
       "      <th>author</th>\n",
       "      <th>narrator</th>\n",
       "      <th>time</th>\n",
       "      <th>releasedate</th>\n",
       "      <th>language</th>\n",
       "      <th>price</th>\n",
       "      <th>rating_stars</th>\n",
       "      <th>n_ratings</th>\n",
       "    </tr>\n",
       "  </thead>\n",
       "  <tbody>\n",
       "    <tr>\n",
       "      <th>0</th>\n",
       "      <td>Geronimo Stilton #11 &amp; #12</td>\n",
       "      <td>GeronimoStilton</td>\n",
       "      <td>BillLobely</td>\n",
       "      <td>2 hr and 20 min</td>\n",
       "      <td>2008-04-08</td>\n",
       "      <td>English</td>\n",
       "      <td>468.0</td>\n",
       "      <td>5.0</td>\n",
       "      <td>34.0</td>\n",
       "    </tr>\n",
       "    <tr>\n",
       "      <th>1</th>\n",
       "      <td>The Burning Maze</td>\n",
       "      <td>RickRiordan</td>\n",
       "      <td>RobbieDaymond</td>\n",
       "      <td>13 hr and 8 min</td>\n",
       "      <td>2018-01-05</td>\n",
       "      <td>English</td>\n",
       "      <td>820.0</td>\n",
       "      <td>4.5</td>\n",
       "      <td>41.0</td>\n",
       "    </tr>\n",
       "    <tr>\n",
       "      <th>2</th>\n",
       "      <td>The Deep End</td>\n",
       "      <td>JeffKinney</td>\n",
       "      <td>DanRussell</td>\n",
       "      <td>2 hr and 3 min</td>\n",
       "      <td>2020-06-11</td>\n",
       "      <td>English</td>\n",
       "      <td>410.0</td>\n",
       "      <td>4.5</td>\n",
       "      <td>38.0</td>\n",
       "    </tr>\n",
       "    <tr>\n",
       "      <th>3</th>\n",
       "      <td>Daughter of the Deep</td>\n",
       "      <td>RickRiordan</td>\n",
       "      <td>SoneelaNankani</td>\n",
       "      <td>11 hr and 16 min</td>\n",
       "      <td>2021-05-10</td>\n",
       "      <td>English</td>\n",
       "      <td>615.0</td>\n",
       "      <td>4.5</td>\n",
       "      <td>12.0</td>\n",
       "    </tr>\n",
       "    <tr>\n",
       "      <th>4</th>\n",
       "      <td>The Lightning Thief: Percy Jackson, Book 1</td>\n",
       "      <td>RickRiordan</td>\n",
       "      <td>JesseBernstein</td>\n",
       "      <td>10 hr</td>\n",
       "      <td>2010-01-13</td>\n",
       "      <td>English</td>\n",
       "      <td>820.0</td>\n",
       "      <td>4.5</td>\n",
       "      <td>181.0</td>\n",
       "    </tr>\n",
       "  </tbody>\n",
       "</table>\n",
       "</div>"
      ],
      "text/plain": [
       "                                         name           author  \\\n",
       "0                  Geronimo Stilton #11 & #12  GeronimoStilton   \n",
       "1                            The Burning Maze      RickRiordan   \n",
       "2                                The Deep End       JeffKinney   \n",
       "3                        Daughter of the Deep      RickRiordan   \n",
       "4  The Lightning Thief: Percy Jackson, Book 1      RickRiordan   \n",
       "\n",
       "         narrator              time releasedate language  price rating_stars  \\\n",
       "0      BillLobely   2 hr and 20 min  2008-04-08  English  468.0          5.0   \n",
       "1   RobbieDaymond   13 hr and 8 min  2018-01-05  English  820.0          4.5   \n",
       "2      DanRussell    2 hr and 3 min  2020-06-11  English  410.0          4.5   \n",
       "3  SoneelaNankani  11 hr and 16 min  2021-05-10  English  615.0          4.5   \n",
       "4  JesseBernstein             10 hr  2010-01-13  English  820.0          4.5   \n",
       "\n",
       "   n_ratings  \n",
       "0       34.0  \n",
       "1       41.0  \n",
       "2       38.0  \n",
       "3       12.0  \n",
       "4      181.0  "
      ]
     },
     "execution_count": 19,
     "metadata": {},
     "output_type": "execute_result"
    }
   ],
   "source": [
    "# Check the results\n",
    "df.head()"
   ]
  },
  {
   "cell_type": "markdown",
   "id": "032528c9-c3cf-45a9-aa09-d3cda2d5f73f",
   "metadata": {},
   "source": [
    "The next step is to extract the number of hours and minutes from the text, then combine in a new `time_mins` column.\n",
    "\n",
    "### Instructions: \n",
    "* Extract the number of hours from `time`. Assign to the `hours` variable.\n",
    "* Extract the number of minutes from `time`. Assign to the `mins` variable.\n",
    "* Create the `time_mins` column combining hours and minutes."
   ]
  },
  {
   "cell_type": "code",
   "execution_count": 20,
   "id": "8cf70611-a69a-4111-9c41-74de4fbf5863",
   "metadata": {
    "executionCancelledAt": null,
    "executionTime": null,
    "lastExecutedAt": null,
    "lastExecutedByKernel": null,
    "lastScheduledRunId": null,
    "lastSuccessfullyExecutedCode": null,
    "outputsMetadata": {
     "0": {
      "height": 249,
      "tableState": {
       "customFilter": {
        "const": {
         "type": "boolean",
         "valid": true,
         "value": true
        },
        "id": "f2b04d49-a2bb-4254-a505-3729d6d7bc75",
        "nodeType": "const"
       }
      },
      "type": "dataFrame"
     }
    }
   },
   "outputs": [
    {
     "data": {
      "text/html": [
       "<div>\n",
       "<style scoped>\n",
       "    .dataframe tbody tr th:only-of-type {\n",
       "        vertical-align: middle;\n",
       "    }\n",
       "\n",
       "    .dataframe tbody tr th {\n",
       "        vertical-align: top;\n",
       "    }\n",
       "\n",
       "    .dataframe thead th {\n",
       "        text-align: right;\n",
       "    }\n",
       "</style>\n",
       "<table border=\"1\" class=\"dataframe\">\n",
       "  <thead>\n",
       "    <tr style=\"text-align: right;\">\n",
       "      <th></th>\n",
       "      <th>name</th>\n",
       "      <th>author</th>\n",
       "      <th>narrator</th>\n",
       "      <th>time</th>\n",
       "      <th>releasedate</th>\n",
       "      <th>language</th>\n",
       "      <th>price</th>\n",
       "      <th>rating_stars</th>\n",
       "      <th>n_ratings</th>\n",
       "      <th>time_mins</th>\n",
       "    </tr>\n",
       "  </thead>\n",
       "  <tbody>\n",
       "    <tr>\n",
       "      <th>0</th>\n",
       "      <td>Geronimo Stilton #11 &amp; #12</td>\n",
       "      <td>GeronimoStilton</td>\n",
       "      <td>BillLobely</td>\n",
       "      <td>2 hr and 20 min</td>\n",
       "      <td>2008-04-08</td>\n",
       "      <td>English</td>\n",
       "      <td>468.0</td>\n",
       "      <td>5.0</td>\n",
       "      <td>34.0</td>\n",
       "      <td>140</td>\n",
       "    </tr>\n",
       "    <tr>\n",
       "      <th>1</th>\n",
       "      <td>The Burning Maze</td>\n",
       "      <td>RickRiordan</td>\n",
       "      <td>RobbieDaymond</td>\n",
       "      <td>13 hr and 8 min</td>\n",
       "      <td>2018-01-05</td>\n",
       "      <td>English</td>\n",
       "      <td>820.0</td>\n",
       "      <td>4.5</td>\n",
       "      <td>41.0</td>\n",
       "      <td>788</td>\n",
       "    </tr>\n",
       "    <tr>\n",
       "      <th>2</th>\n",
       "      <td>The Deep End</td>\n",
       "      <td>JeffKinney</td>\n",
       "      <td>DanRussell</td>\n",
       "      <td>2 hr and 3 min</td>\n",
       "      <td>2020-06-11</td>\n",
       "      <td>English</td>\n",
       "      <td>410.0</td>\n",
       "      <td>4.5</td>\n",
       "      <td>38.0</td>\n",
       "      <td>123</td>\n",
       "    </tr>\n",
       "    <tr>\n",
       "      <th>3</th>\n",
       "      <td>Daughter of the Deep</td>\n",
       "      <td>RickRiordan</td>\n",
       "      <td>SoneelaNankani</td>\n",
       "      <td>11 hr and 16 min</td>\n",
       "      <td>2021-05-10</td>\n",
       "      <td>English</td>\n",
       "      <td>615.0</td>\n",
       "      <td>4.5</td>\n",
       "      <td>12.0</td>\n",
       "      <td>676</td>\n",
       "    </tr>\n",
       "    <tr>\n",
       "      <th>4</th>\n",
       "      <td>The Lightning Thief: Percy Jackson, Book 1</td>\n",
       "      <td>RickRiordan</td>\n",
       "      <td>JesseBernstein</td>\n",
       "      <td>10 hr</td>\n",
       "      <td>2010-01-13</td>\n",
       "      <td>English</td>\n",
       "      <td>820.0</td>\n",
       "      <td>4.5</td>\n",
       "      <td>181.0</td>\n",
       "      <td>600</td>\n",
       "    </tr>\n",
       "  </tbody>\n",
       "</table>\n",
       "</div>"
      ],
      "text/plain": [
       "                                         name           author  \\\n",
       "0                  Geronimo Stilton #11 & #12  GeronimoStilton   \n",
       "1                            The Burning Maze      RickRiordan   \n",
       "2                                The Deep End       JeffKinney   \n",
       "3                        Daughter of the Deep      RickRiordan   \n",
       "4  The Lightning Thief: Percy Jackson, Book 1      RickRiordan   \n",
       "\n",
       "         narrator              time releasedate language  price rating_stars  \\\n",
       "0      BillLobely   2 hr and 20 min  2008-04-08  English  468.0          5.0   \n",
       "1   RobbieDaymond   13 hr and 8 min  2018-01-05  English  820.0          4.5   \n",
       "2      DanRussell    2 hr and 3 min  2020-06-11  English  410.0          4.5   \n",
       "3  SoneelaNankani  11 hr and 16 min  2021-05-10  English  615.0          4.5   \n",
       "4  JesseBernstein             10 hr  2010-01-13  English  820.0          4.5   \n",
       "\n",
       "   n_ratings  time_mins  \n",
       "0       34.0        140  \n",
       "1       41.0        788  \n",
       "2       38.0        123  \n",
       "3       12.0        676  \n",
       "4      181.0        600  "
      ]
     },
     "execution_count": 20,
     "metadata": {},
     "output_type": "execute_result"
    }
   ],
   "source": [
    "# Extract the number of hours, turn to integer\n",
    "hours = df['time'].str.extract('(\\d+) hr').fillna(0).astype('int')\n",
    "# Extract the number of minutes, turn to integer\n",
    "minutes = df['time'].str.extract('(\\d+) min').fillna(0).astype('int')\n",
    "# Combine hours and minutes into the time_mins column\n",
    "df['time_mins'] = hours * 60 + minutes\n",
    "# Check the results\n",
    "df.head()"
   ]
  },
  {
   "cell_type": "markdown",
   "id": "ec7ece51-0692-4dd4-ae0c-2735b016269a",
   "metadata": {},
   "source": [
    "And as final step, let's delete the columns we don't need any more:"
   ]
  },
  {
   "cell_type": "code",
   "execution_count": 21,
   "id": "54b40957-1dce-402f-8acc-632a5d3de756",
   "metadata": {
    "executionCancelledAt": null,
    "executionTime": 15,
    "lastExecutedAt": 1748145702967,
    "lastExecutedByKernel": "f1fefd03-4721-4032-a2f5-9594c5eae1aa",
    "lastScheduledRunId": null,
    "lastSuccessfullyExecutedCode": "# Drop the time column\ndf = df.drop(columns=['time'],axis=1)"
   },
   "outputs": [],
   "source": [
    "# Drop the time column\n",
    "df = df.drop(columns=['time'],axis=1)"
   ]
  },
  {
   "cell_type": "markdown",
   "id": "b03b6682-1165-4304-9722-b0f0e8065f0c",
   "metadata": {},
   "source": [
    "Here is how our dataframe looks now:"
   ]
  },
  {
   "cell_type": "code",
   "execution_count": 22,
   "id": "ade24183-d3f6-4b3d-b380-e4cfa8bb0684",
   "metadata": {
    "executionCancelledAt": null,
    "executionTime": null,
    "lastExecutedAt": null,
    "lastExecutedByKernel": null,
    "lastScheduledRunId": null,
    "lastSuccessfullyExecutedCode": null,
    "outputsMetadata": {
     "0": {
      "height": 50,
      "tableState": {
       "customFilter": {
        "const": {
         "type": "boolean",
         "valid": true,
         "value": true
        },
        "id": "f2b04d49-a2bb-4254-a505-3729d6d7bc75",
        "nodeType": "const"
       }
      },
      "type": "dataFrame"
     }
    }
   },
   "outputs": [
    {
     "data": {
      "text/html": [
       "<div>\n",
       "<style scoped>\n",
       "    .dataframe tbody tr th:only-of-type {\n",
       "        vertical-align: middle;\n",
       "    }\n",
       "\n",
       "    .dataframe tbody tr th {\n",
       "        vertical-align: top;\n",
       "    }\n",
       "\n",
       "    .dataframe thead th {\n",
       "        text-align: right;\n",
       "    }\n",
       "</style>\n",
       "<table border=\"1\" class=\"dataframe\">\n",
       "  <thead>\n",
       "    <tr style=\"text-align: right;\">\n",
       "      <th></th>\n",
       "      <th>name</th>\n",
       "      <th>author</th>\n",
       "      <th>narrator</th>\n",
       "      <th>releasedate</th>\n",
       "      <th>language</th>\n",
       "      <th>price</th>\n",
       "      <th>rating_stars</th>\n",
       "      <th>n_ratings</th>\n",
       "      <th>time_mins</th>\n",
       "    </tr>\n",
       "  </thead>\n",
       "  <tbody>\n",
       "    <tr>\n",
       "      <th>0</th>\n",
       "      <td>Geronimo Stilton #11 &amp; #12</td>\n",
       "      <td>GeronimoStilton</td>\n",
       "      <td>BillLobely</td>\n",
       "      <td>2008-04-08</td>\n",
       "      <td>English</td>\n",
       "      <td>468.0</td>\n",
       "      <td>5.0</td>\n",
       "      <td>34.0</td>\n",
       "      <td>140</td>\n",
       "    </tr>\n",
       "    <tr>\n",
       "      <th>1</th>\n",
       "      <td>The Burning Maze</td>\n",
       "      <td>RickRiordan</td>\n",
       "      <td>RobbieDaymond</td>\n",
       "      <td>2018-01-05</td>\n",
       "      <td>English</td>\n",
       "      <td>820.0</td>\n",
       "      <td>4.5</td>\n",
       "      <td>41.0</td>\n",
       "      <td>788</td>\n",
       "    </tr>\n",
       "    <tr>\n",
       "      <th>2</th>\n",
       "      <td>The Deep End</td>\n",
       "      <td>JeffKinney</td>\n",
       "      <td>DanRussell</td>\n",
       "      <td>2020-06-11</td>\n",
       "      <td>English</td>\n",
       "      <td>410.0</td>\n",
       "      <td>4.5</td>\n",
       "      <td>38.0</td>\n",
       "      <td>123</td>\n",
       "    </tr>\n",
       "    <tr>\n",
       "      <th>3</th>\n",
       "      <td>Daughter of the Deep</td>\n",
       "      <td>RickRiordan</td>\n",
       "      <td>SoneelaNankani</td>\n",
       "      <td>2021-05-10</td>\n",
       "      <td>English</td>\n",
       "      <td>615.0</td>\n",
       "      <td>4.5</td>\n",
       "      <td>12.0</td>\n",
       "      <td>676</td>\n",
       "    </tr>\n",
       "    <tr>\n",
       "      <th>4</th>\n",
       "      <td>The Lightning Thief: Percy Jackson, Book 1</td>\n",
       "      <td>RickRiordan</td>\n",
       "      <td>JesseBernstein</td>\n",
       "      <td>2010-01-13</td>\n",
       "      <td>English</td>\n",
       "      <td>820.0</td>\n",
       "      <td>4.5</td>\n",
       "      <td>181.0</td>\n",
       "      <td>600</td>\n",
       "    </tr>\n",
       "  </tbody>\n",
       "</table>\n",
       "</div>"
      ],
      "text/plain": [
       "                                         name           author  \\\n",
       "0                  Geronimo Stilton #11 & #12  GeronimoStilton   \n",
       "1                            The Burning Maze      RickRiordan   \n",
       "2                                The Deep End       JeffKinney   \n",
       "3                        Daughter of the Deep      RickRiordan   \n",
       "4  The Lightning Thief: Percy Jackson, Book 1      RickRiordan   \n",
       "\n",
       "         narrator releasedate language  price rating_stars  n_ratings  \\\n",
       "0      BillLobely  2008-04-08  English  468.0          5.0       34.0   \n",
       "1   RobbieDaymond  2018-01-05  English  820.0          4.5       41.0   \n",
       "2      DanRussell  2020-06-11  English  410.0          4.5       38.0   \n",
       "3  SoneelaNankani  2021-05-10  English  615.0          4.5       12.0   \n",
       "4  JesseBernstein  2010-01-13  English  820.0          4.5      181.0   \n",
       "\n",
       "   time_mins  \n",
       "0        140  \n",
       "1        788  \n",
       "2        123  \n",
       "3        676  \n",
       "4        600  "
      ]
     },
     "execution_count": 22,
     "metadata": {},
     "output_type": "execute_result"
    }
   ],
   "source": [
    "# Inspect the dataframe \n",
    "df.head()"
   ]
  },
  {
   "cell_type": "markdown",
   "id": "bc18846c-6bab-4089-9471-4cbf62b9234c",
   "metadata": {},
   "source": [
    "## Task 6: Check data ranges\n",
    "\n",
    "Another important step is to confirm that the values in our columns are in the expected ranges and that we don't have out-of-range values.\n",
    "\n",
    "Let's create a histogram of the numeric columns to visually inspect ht ranges and the shape of the distribution:"
   ]
  },
  {
   "cell_type": "code",
   "execution_count": 25,
   "id": "71bc7a0f-95dd-47df-a72e-0210289291ea",
   "metadata": {
    "executionCancelledAt": null,
    "executionTime": 701,
    "lastExecutedAt": 1748145955833,
    "lastExecutedByKernel": "f1fefd03-4721-4032-a2f5-9594c5eae1aa",
    "lastScheduledRunId": null,
    "lastSuccessfullyExecutedCode": "# Plot histograms of all the numerical columns\n#num_cols = df.select_dtypes(include='float')\nplt.figure(figsize=(10, 10))\ndf.hist(bins=50)\nplt.show()"
   },
   "outputs": [
    {
     "data": {
      "text/plain": [
       "<Figure size 1600x1600 with 0 Axes>"
      ]
     },
     "metadata": {},
     "output_type": "display_data"
    },
    {
     "data": {
      "image/png": "[encoded data removed]",
      "text/plain": [
       "<Figure size 640x480 with 4 Axes>"
      ]
     },
     "metadata": {},
     "output_type": "display_data"
    }
   ],
   "source": [
    "# Plot histograms of all the numerical columns\n",
    "#num_cols = df.select_dtypes(include='float')\n",
    "plt.figure(figsize=(16, 16))\n",
    "df.hist(bins=50)\n",
    "plt.show()"
   ]
  },
  {
   "cell_type": "markdown",
   "id": "9e14b4b0-a419-43d8-8738-bee3b8611991",
   "metadata": {},
   "source": [
    "Additionally, we can use `.describe()` to look at a summary of our data"
   ]
  },
  {
   "cell_type": "code",
   "execution_count": 26,
   "id": "39bc28a5-28b5-4387-81a5-092812b8e5e5",
   "metadata": {
    "executionCancelledAt": null,
    "executionTime": null,
    "lastExecutedAt": null,
    "lastExecutedByKernel": null,
    "lastScheduledRunId": null,
    "lastSuccessfullyExecutedCode": null,
    "outputsMetadata": {
     "0": {
      "height": 50,
      "tableState": {
       "customFilter": {
        "const": {
         "type": "boolean",
         "valid": true,
         "value": true
        },
        "id": "f2b04d49-a2bb-4254-a505-3729d6d7bc75",
        "nodeType": "const"
       }
      },
      "type": "dataFrame"
     }
    }
   },
   "outputs": [
    {
     "data": {
      "text/html": [
       "<div>\n",
       "<style scoped>\n",
       "    .dataframe tbody tr th:only-of-type {\n",
       "        vertical-align: middle;\n",
       "    }\n",
       "\n",
       "    .dataframe tbody tr th {\n",
       "        vertical-align: top;\n",
       "    }\n",
       "\n",
       "    .dataframe thead th {\n",
       "        text-align: right;\n",
       "    }\n",
       "</style>\n",
       "<table border=\"1\" class=\"dataframe\">\n",
       "  <thead>\n",
       "    <tr style=\"text-align: right;\">\n",
       "      <th></th>\n",
       "      <th>releasedate</th>\n",
       "      <th>price</th>\n",
       "      <th>n_ratings</th>\n",
       "      <th>time_mins</th>\n",
       "    </tr>\n",
       "  </thead>\n",
       "  <tbody>\n",
       "    <tr>\n",
       "      <th>count</th>\n",
       "      <td>87489</td>\n",
       "      <td>87489.000000</td>\n",
       "      <td>15072.000000</td>\n",
       "      <td>87489.000000</td>\n",
       "    </tr>\n",
       "    <tr>\n",
       "      <th>mean</th>\n",
       "      <td>2018-06-22 01:35:29.780886528</td>\n",
       "      <td>559.009246</td>\n",
       "      <td>21.613190</td>\n",
       "      <td>417.497663</td>\n",
       "    </tr>\n",
       "    <tr>\n",
       "      <th>min</th>\n",
       "      <td>1998-12-27 00:00:00</td>\n",
       "      <td>0.000000</td>\n",
       "      <td>1.000000</td>\n",
       "      <td>1.000000</td>\n",
       "    </tr>\n",
       "    <tr>\n",
       "      <th>25%</th>\n",
       "      <td>2016-08-30 00:00:00</td>\n",
       "      <td>268.000000</td>\n",
       "      <td>1.000000</td>\n",
       "      <td>142.000000</td>\n",
       "    </tr>\n",
       "    <tr>\n",
       "      <th>50%</th>\n",
       "      <td>2020-01-30 00:00:00</td>\n",
       "      <td>585.000000</td>\n",
       "      <td>2.000000</td>\n",
       "      <td>386.000000</td>\n",
       "    </tr>\n",
       "    <tr>\n",
       "      <th>75%</th>\n",
       "      <td>2021-08-04 00:00:00</td>\n",
       "      <td>755.000000</td>\n",
       "      <td>7.000000</td>\n",
       "      <td>584.000000</td>\n",
       "    </tr>\n",
       "    <tr>\n",
       "      <th>max</th>\n",
       "      <td>2025-11-14 00:00:00</td>\n",
       "      <td>7198.000000</td>\n",
       "      <td>12573.000000</td>\n",
       "      <td>8595.000000</td>\n",
       "    </tr>\n",
       "    <tr>\n",
       "      <th>std</th>\n",
       "      <td>NaN</td>\n",
       "      <td>336.096642</td>\n",
       "      <td>207.479634</td>\n",
       "      <td>364.559399</td>\n",
       "    </tr>\n",
       "  </tbody>\n",
       "</table>\n",
       "</div>"
      ],
      "text/plain": [
       "                         releasedate         price     n_ratings     time_mins\n",
       "count                          87489  87489.000000  15072.000000  87489.000000\n",
       "mean   2018-06-22 01:35:29.780886528    559.009246     21.613190    417.497663\n",
       "min              1998-12-27 00:00:00      0.000000      1.000000      1.000000\n",
       "25%              2016-08-30 00:00:00    268.000000      1.000000    142.000000\n",
       "50%              2020-01-30 00:00:00    585.000000      2.000000    386.000000\n",
       "75%              2021-08-04 00:00:00    755.000000      7.000000    584.000000\n",
       "max              2025-11-14 00:00:00   7198.000000  12573.000000   8595.000000\n",
       "std                              NaN    336.096642    207.479634    364.559399"
      ]
     },
     "execution_count": 26,
     "metadata": {},
     "output_type": "execute_result"
    }
   ],
   "source": [
    "# Look at the numeric columns\n",
    "df.describe()"
   ]
  },
  {
   "cell_type": "code",
   "execution_count": 27,
   "id": "3a61f89b-76d8-4793-8fe8-cb470ea84966",
   "metadata": {
    "chartConfig": {
     "bar": {
      "hasRoundedCorners": true,
      "stacked": false
     },
     "type": "bar",
     "version": "v1"
    },
    "executionCancelledAt": null,
    "executionTime": 108,
    "lastExecutedAt": 1748146006806,
    "lastExecutedByKernel": "f1fefd03-4721-4032-a2f5-9594c5eae1aa",
    "lastScheduledRunId": null,
    "lastSuccessfullyExecutedCode": "# Look at the non numeric columns\ndf.describe(exclude=[np.number])",
    "outputsMetadata": {
     "0": {
      "height": 50,
      "tableState": {
       "customFilter": {
        "const": {
         "type": "boolean",
         "valid": true,
         "value": true
        },
        "id": "f2b04d49-a2bb-4254-a505-3729d6d7bc75",
        "nodeType": "const"
       }
      },
      "type": "dataFrame"
     }
    },
    "visualizeDataframe": false
   },
   "outputs": [
    {
     "data": {
      "text/html": [
       "<div>\n",
       "<style scoped>\n",
       "    .dataframe tbody tr th:only-of-type {\n",
       "        vertical-align: middle;\n",
       "    }\n",
       "\n",
       "    .dataframe tbody tr th {\n",
       "        vertical-align: top;\n",
       "    }\n",
       "\n",
       "    .dataframe thead th {\n",
       "        text-align: right;\n",
       "    }\n",
       "</style>\n",
       "<table border=\"1\" class=\"dataframe\">\n",
       "  <thead>\n",
       "    <tr style=\"text-align: right;\">\n",
       "      <th></th>\n",
       "      <th>name</th>\n",
       "      <th>author</th>\n",
       "      <th>narrator</th>\n",
       "      <th>releasedate</th>\n",
       "      <th>language</th>\n",
       "      <th>rating_stars</th>\n",
       "    </tr>\n",
       "  </thead>\n",
       "  <tbody>\n",
       "    <tr>\n",
       "      <th>count</th>\n",
       "      <td>87489</td>\n",
       "      <td>87489</td>\n",
       "      <td>87489</td>\n",
       "      <td>87489</td>\n",
       "      <td>87489</td>\n",
       "      <td>15072.0</td>\n",
       "    </tr>\n",
       "    <tr>\n",
       "      <th>unique</th>\n",
       "      <td>82767</td>\n",
       "      <td>48374</td>\n",
       "      <td>29717</td>\n",
       "      <td>NaN</td>\n",
       "      <td>36</td>\n",
       "      <td>9.0</td>\n",
       "    </tr>\n",
       "    <tr>\n",
       "      <th>top</th>\n",
       "      <td>The Art of War</td>\n",
       "      <td>矢島雅弘,石橋遊</td>\n",
       "      <td>anonymous</td>\n",
       "      <td>NaN</td>\n",
       "      <td>English</td>\n",
       "      <td>5.0</td>\n",
       "    </tr>\n",
       "    <tr>\n",
       "      <th>freq</th>\n",
       "      <td>20</td>\n",
       "      <td>874</td>\n",
       "      <td>1034</td>\n",
       "      <td>NaN</td>\n",
       "      <td>61884</td>\n",
       "      <td>6761.0</td>\n",
       "    </tr>\n",
       "    <tr>\n",
       "      <th>mean</th>\n",
       "      <td>NaN</td>\n",
       "      <td>NaN</td>\n",
       "      <td>NaN</td>\n",
       "      <td>2018-06-22 01:35:29.780886528</td>\n",
       "      <td>NaN</td>\n",
       "      <td>NaN</td>\n",
       "    </tr>\n",
       "    <tr>\n",
       "      <th>min</th>\n",
       "      <td>NaN</td>\n",
       "      <td>NaN</td>\n",
       "      <td>NaN</td>\n",
       "      <td>1998-12-27 00:00:00</td>\n",
       "      <td>NaN</td>\n",
       "      <td>NaN</td>\n",
       "    </tr>\n",
       "    <tr>\n",
       "      <th>25%</th>\n",
       "      <td>NaN</td>\n",
       "      <td>NaN</td>\n",
       "      <td>NaN</td>\n",
       "      <td>2016-08-30 00:00:00</td>\n",
       "      <td>NaN</td>\n",
       "      <td>NaN</td>\n",
       "    </tr>\n",
       "    <tr>\n",
       "      <th>50%</th>\n",
       "      <td>NaN</td>\n",
       "      <td>NaN</td>\n",
       "      <td>NaN</td>\n",
       "      <td>2020-01-30 00:00:00</td>\n",
       "      <td>NaN</td>\n",
       "      <td>NaN</td>\n",
       "    </tr>\n",
       "    <tr>\n",
       "      <th>75%</th>\n",
       "      <td>NaN</td>\n",
       "      <td>NaN</td>\n",
       "      <td>NaN</td>\n",
       "      <td>2021-08-04 00:00:00</td>\n",
       "      <td>NaN</td>\n",
       "      <td>NaN</td>\n",
       "    </tr>\n",
       "    <tr>\n",
       "      <th>max</th>\n",
       "      <td>NaN</td>\n",
       "      <td>NaN</td>\n",
       "      <td>NaN</td>\n",
       "      <td>2025-11-14 00:00:00</td>\n",
       "      <td>NaN</td>\n",
       "      <td>NaN</td>\n",
       "    </tr>\n",
       "  </tbody>\n",
       "</table>\n",
       "</div>"
      ],
      "text/plain": [
       "                  name    author   narrator                    releasedate  \\\n",
       "count            87489     87489      87489                          87489   \n",
       "unique           82767     48374      29717                            NaN   \n",
       "top     The Art of War  矢島雅弘,石橋遊  anonymous                            NaN   \n",
       "freq                20       874       1034                            NaN   \n",
       "mean               NaN       NaN        NaN  2018-06-22 01:35:29.780886528   \n",
       "min                NaN       NaN        NaN            1998-12-27 00:00:00   \n",
       "25%                NaN       NaN        NaN            2016-08-30 00:00:00   \n",
       "50%                NaN       NaN        NaN            2020-01-30 00:00:00   \n",
       "75%                NaN       NaN        NaN            2021-08-04 00:00:00   \n",
       "max                NaN       NaN        NaN            2025-11-14 00:00:00   \n",
       "\n",
       "       language  rating_stars  \n",
       "count     87489       15072.0  \n",
       "unique       36           9.0  \n",
       "top     English           5.0  \n",
       "freq      61884        6761.0  \n",
       "mean        NaN           NaN  \n",
       "min         NaN           NaN  \n",
       "25%         NaN           NaN  \n",
       "50%         NaN           NaN  \n",
       "75%         NaN           NaN  \n",
       "max         NaN           NaN  "
      ]
     },
     "execution_count": 27,
     "metadata": {},
     "output_type": "execute_result"
    }
   ],
   "source": [
    "# Look at the non numeric columns\n",
    "df.describe(exclude=[np.number])"
   ]
  },
  {
   "cell_type": "markdown",
   "id": "1e382f9e-0beb-4855-88fd-579106ba7b0a",
   "metadata": {},
   "source": [
    "We will transform the prices in `price` to USD for this exercise. We can use the exchange rate of 1 USD = 0.012 INR:"
   ]
  },
  {
   "cell_type": "code",
   "execution_count": 28,
   "id": "22cd90ab-53cc-40e2-a90a-2439991ddbfc",
   "metadata": {
    "collapsed": false,
    "executionCancelledAt": null,
    "executionTime": null,
    "jupyter": {
     "outputs_hidden": false,
     "source_hidden": false
    },
    "lastExecutedAt": null,
    "lastExecutedByKernel": null,
    "lastScheduledRunId": null,
    "lastSuccessfullyExecutedCode": null,
    "outputsMetadata": {
     "0": {
      "height": 50,
      "tableState": {
       "customFilter": {
        "const": {
         "type": "boolean",
         "valid": true,
         "value": true
        },
        "id": "f2b04d49-a2bb-4254-a505-3729d6d7bc75",
        "nodeType": "const"
       }
      },
      "type": "dataFrame"
     }
    }
   },
   "outputs": [
    {
     "data": {
      "text/plain": [
       "count    87489.000000\n",
       "mean         6.708111\n",
       "std          4.033160\n",
       "min          0.000000\n",
       "25%          3.216000\n",
       "50%          7.020000\n",
       "75%          9.060000\n",
       "max         86.376000\n",
       "Name: price, dtype: float64"
      ]
     },
     "execution_count": 28,
     "metadata": {},
     "output_type": "execute_result"
    }
   ],
   "source": [
    "# Transform prices to USD (multiply times 0.012)\n",
    "df['price'] = df['price'] * 0.012\n",
    "# Check the results\n",
    "df.price.describe()"
   ]
  },
  {
   "cell_type": "markdown",
   "id": "c04ca8b7-516d-4446-ab3a-1da7766c04b7",
   "metadata": {},
   "source": [
    "There values in the `language` column have different capitalization. Let's fix that."
   ]
  },
  {
   "cell_type": "code",
   "execution_count": 29,
   "id": "f5af1078-c6b0-4751-92f4-c9b914b0d3a6",
   "metadata": {
    "executionCancelledAt": null,
    "executionTime": null,
    "lastExecutedAt": null,
    "lastExecutedByKernel": null,
    "lastScheduledRunId": null,
    "lastSuccessfullyExecutedCode": null,
    "outputsMetadata": {
     "0": {
      "height": 550,
      "tableState": {
       "customFilter": {
        "const": {
         "type": "boolean",
         "valid": true,
         "value": true
        },
        "id": "f2b04d49-a2bb-4254-a505-3729d6d7bc75",
        "nodeType": "const"
       }
      },
      "type": "dataFrame"
     }
    },
    "scrolled": true
   },
   "outputs": [
    {
     "data": {
      "text/plain": [
       "language\n",
       "English             61884\n",
       "german               8295\n",
       "spanish              3496\n",
       "japanese             3167\n",
       "italian              2694\n",
       "french               2386\n",
       "russian              1804\n",
       "danish                935\n",
       "portuguese            526\n",
       "swedish               515\n",
       "Hindi                 436\n",
       "polish                224\n",
       "finnish               197\n",
       "dutch                 190\n",
       "tamil                 161\n",
       "catalan               153\n",
       "mandarin_chinese       97\n",
       "icelandic              52\n",
       "romanian               50\n",
       "hungarian              36\n",
       "urdu                   34\n",
       "afrikaans              28\n",
       "czech                  23\n",
       "turkish                20\n",
       "greek                  18\n",
       "arabic                 16\n",
       "norwegian              16\n",
       "galician               10\n",
       "bulgarian               9\n",
       "korean                  4\n",
       "slovene                 4\n",
       "hebrew                  2\n",
       "basque                  2\n",
       "telugu                  2\n",
       "lithuanian              2\n",
       "ukrainian               1\n",
       "Name: count, dtype: int64"
      ]
     },
     "execution_count": 29,
     "metadata": {},
     "output_type": "execute_result"
    }
   ],
   "source": [
    "# Inspect the language column before making changes\n",
    "df['language'].value_counts()"
   ]
  },
  {
   "cell_type": "code",
   "execution_count": 30,
   "id": "2bbd1927-f090-45f7-b66b-ca3ee8bfba9d",
   "metadata": {
    "executionCancelledAt": null,
    "executionTime": 49,
    "lastExecutedAt": 1748146604553,
    "lastExecutedByKernel": "f1fefd03-4721-4032-a2f5-9594c5eae1aa",
    "lastScheduledRunId": null,
    "lastSuccessfullyExecutedCode": "# Update capitalization in the language column\ndf['language'] = df['language'].str.capitalize()\n# Check the results\ndf.language.value_counts()",
    "outputsMetadata": {
     "0": {
      "height": 550,
      "tableState": {
       "customFilter": {
        "const": {
         "type": "boolean",
         "valid": true,
         "value": true
        },
        "id": "f2b04d49-a2bb-4254-a505-3729d6d7bc75",
        "nodeType": "const"
       }
      },
      "type": "dataFrame"
     }
    }
   },
   "outputs": [
    {
     "data": {
      "text/plain": [
       "language\n",
       "English             61884\n",
       "German               8295\n",
       "Spanish              3496\n",
       "Japanese             3167\n",
       "Italian              2694\n",
       "French               2386\n",
       "Russian              1804\n",
       "Danish                935\n",
       "Portuguese            526\n",
       "Swedish               515\n",
       "Hindi                 436\n",
       "Polish                224\n",
       "Finnish               197\n",
       "Dutch                 190\n",
       "Tamil                 161\n",
       "Catalan               153\n",
       "Mandarin_chinese       97\n",
       "Icelandic              52\n",
       "Romanian               50\n",
       "Hungarian              36\n",
       "Urdu                   34\n",
       "Afrikaans              28\n",
       "Czech                  23\n",
       "Turkish                20\n",
       "Greek                  18\n",
       "Arabic                 16\n",
       "Norwegian              16\n",
       "Galician               10\n",
       "Bulgarian               9\n",
       "Korean                  4\n",
       "Slovene                 4\n",
       "Hebrew                  2\n",
       "Basque                  2\n",
       "Telugu                  2\n",
       "Lithuanian              2\n",
       "Ukrainian               1\n",
       "Name: count, dtype: int64"
      ]
     },
     "execution_count": 30,
     "metadata": {},
     "output_type": "execute_result"
    }
   ],
   "source": [
    "# Update capitalization in the language column\n",
    "df['language'] = df['language'].str.capitalize()\n",
    "# Check the results\n",
    "df.language.value_counts()"
   ]
  },
  {
   "cell_type": "markdown",
   "id": "6b697677-a8bc-4b1b-9ce9-7d38906c5a23",
   "metadata": {},
   "source": [
    "## Task 7: Checking for duplicates\n",
    "\n",
    "How many duplicates do we have?\n",
    "\n",
    "As a first step look for duplicates using `.duplicated()` and `.sum()`:"
   ]
  },
  {
   "cell_type": "code",
   "execution_count": 31,
   "id": "f5d2ed76-44d5-4d68-bc39-41e70df5349b",
   "metadata": {
    "executionCancelledAt": null,
    "executionTime": 69,
    "lastExecutedAt": 1748146232612,
    "lastExecutedByKernel": "f1fefd03-4721-4032-a2f5-9594c5eae1aa",
    "lastScheduledRunId": null,
    "lastSuccessfullyExecutedCode": "# Look for duplicate rows\ndf.duplicated().sum()"
   },
   "outputs": [
    {
     "data": {
      "text/plain": [
       "0"
      ]
     },
     "execution_count": 31,
     "metadata": {},
     "output_type": "execute_result"
    }
   ],
   "source": [
    "# Look for duplicate rows\n",
    "df.duplicated().sum()"
   ]
  },
  {
   "cell_type": "markdown",
   "id": "07c5e07a-ea4b-4583-afa0-b8a9f96782ce",
   "metadata": {},
   "source": [
    "It is useful to look for duplicates only using a subset of the columns that make sense. We will use the following subset of columns:\n",
    "* name\n",
    "* author\n",
    "* narrator\n",
    "* time_mins\n",
    "* price\n",
    "\n",
    "Here we use `.duplicated()` again, but with our subset of columns."
   ]
  },
  {
   "cell_type": "code",
   "execution_count": 32,
   "id": "2ce4ccbb-4f84-4df9-ad8d-a6e91462ddf3",
   "metadata": {
    "executionCancelledAt": null,
    "executionTime": 63,
    "lastExecutedAt": 1748146326239,
    "lastExecutedByKernel": "f1fefd03-4721-4032-a2f5-9594c5eae1aa",
    "lastScheduledRunId": null,
    "lastSuccessfullyExecutedCode": "# Create a list of our subset columns and assign to subset_cols\nsubset_cols = df[['name','author','narrator','time_mins','price']]\n# Check for duplicates using our subset of columns\nsubset_cols.duplicated().sum()"
   },
   "outputs": [
    {
     "data": {
      "text/plain": [
       "70"
      ]
     },
     "execution_count": 32,
     "metadata": {},
     "output_type": "execute_result"
    }
   ],
   "source": [
    "# Create a list of our subset columns and assign to subset_cols\n",
    "subset_cols = df[['name','author','narrator','time_mins','price']]\n",
    "# Check for duplicates using our subset of columns\n",
    "subset_cols.duplicated().sum()"
   ]
  },
  {
   "cell_type": "markdown",
   "id": "ad1dd974-3579-4443-96d1-46df909c54b1",
   "metadata": {},
   "source": [
    "Let's look at those values (use `keep=false`) and see what is going on:"
   ]
  },
  {
   "cell_type": "code",
   "execution_count": 33,
   "id": "6d1fe8ea-31f7-4d46-bf7f-9d55220e6137",
   "metadata": {
    "executionCancelledAt": null,
    "executionTime": null,
    "lastExecutedAt": null,
    "lastExecutedByKernel": null,
    "lastScheduledRunId": null,
    "lastSuccessfullyExecutedCode": null,
    "outputsMetadata": {
     "0": {
      "height": 550,
      "tableState": {
       "customFilter": {
        "const": {
         "type": "boolean",
         "valid": true,
         "value": true
        },
        "id": "f2b04d49-a2bb-4254-a505-3729d6d7bc75",
        "nodeType": "const"
       }
      },
      "type": "dataFrame"
     }
    }
   },
   "outputs": [
    {
     "data": {
      "text/html": [
       "<div>\n",
       "<style scoped>\n",
       "    .dataframe tbody tr th:only-of-type {\n",
       "        vertical-align: middle;\n",
       "    }\n",
       "\n",
       "    .dataframe tbody tr th {\n",
       "        vertical-align: top;\n",
       "    }\n",
       "\n",
       "    .dataframe thead th {\n",
       "        text-align: right;\n",
       "    }\n",
       "</style>\n",
       "<table border=\"1\" class=\"dataframe\">\n",
       "  <thead>\n",
       "    <tr style=\"text-align: right;\">\n",
       "      <th></th>\n",
       "      <th>name</th>\n",
       "      <th>author</th>\n",
       "      <th>narrator</th>\n",
       "      <th>time_mins</th>\n",
       "      <th>price</th>\n",
       "    </tr>\n",
       "  </thead>\n",
       "  <tbody>\n",
       "    <tr>\n",
       "      <th>63978</th>\n",
       "      <td>\"Das Böse ist des Menschen beste Kraft\"</td>\n",
       "      <td>ChristianLiederer</td>\n",
       "      <td>ThomasKrause</td>\n",
       "      <td>144</td>\n",
       "      <td>2.796</td>\n",
       "    </tr>\n",
       "    <tr>\n",
       "      <th>63965</th>\n",
       "      <td>\"Das Böse ist des Menschen beste Kraft\"</td>\n",
       "      <td>ChristianLiederer</td>\n",
       "      <td>ThomasKrause</td>\n",
       "      <td>144</td>\n",
       "      <td>2.796</td>\n",
       "    </tr>\n",
       "    <tr>\n",
       "      <th>24625</th>\n",
       "      <td>90 Minutes in Heaven</td>\n",
       "      <td>DonPiper,CecilMurphey</td>\n",
       "      <td>DonPiper</td>\n",
       "      <td>495</td>\n",
       "      <td>7.032</td>\n",
       "    </tr>\n",
       "    <tr>\n",
       "      <th>24116</th>\n",
       "      <td>90 Minutes in Heaven</td>\n",
       "      <td>DonPiper,CecilMurphey</td>\n",
       "      <td>DonPiper</td>\n",
       "      <td>495</td>\n",
       "      <td>7.032</td>\n",
       "    </tr>\n",
       "    <tr>\n",
       "      <th>16971</th>\n",
       "      <td>Adagio in Dm</td>\n",
       "      <td>BillBrown</td>\n",
       "      <td>BillBrown</td>\n",
       "      <td>78</td>\n",
       "      <td>5.472</td>\n",
       "    </tr>\n",
       "    <tr>\n",
       "      <th>...</th>\n",
       "      <td>...</td>\n",
       "      <td>...</td>\n",
       "      <td>...</td>\n",
       "      <td>...</td>\n",
       "      <td>...</td>\n",
       "    </tr>\n",
       "    <tr>\n",
       "      <th>18338</th>\n",
       "      <td>What I Talk About When I Talk About Running</td>\n",
       "      <td>HarukiMurakami</td>\n",
       "      <td>RayPorter</td>\n",
       "      <td>263</td>\n",
       "      <td>4.776</td>\n",
       "    </tr>\n",
       "    <tr>\n",
       "      <th>38021</th>\n",
       "      <td>When Women Ruled the World</td>\n",
       "      <td>KaraCooney</td>\n",
       "      <td>KaraCooney</td>\n",
       "      <td>555</td>\n",
       "      <td>10.032</td>\n",
       "    </tr>\n",
       "    <tr>\n",
       "      <th>20260</th>\n",
       "      <td>When Women Ruled the World</td>\n",
       "      <td>KaraCooney</td>\n",
       "      <td>KaraCooney</td>\n",
       "      <td>555</td>\n",
       "      <td>10.032</td>\n",
       "    </tr>\n",
       "    <tr>\n",
       "      <th>22158</th>\n",
       "      <td>Wings of Fire</td>\n",
       "      <td>APJAbdulKalam,ArunTiwari</td>\n",
       "      <td>GirishKarnad</td>\n",
       "      <td>75</td>\n",
       "      <td>0.900</td>\n",
       "    </tr>\n",
       "    <tr>\n",
       "      <th>64428</th>\n",
       "      <td>Wings of Fire</td>\n",
       "      <td>APJAbdulKalam,ArunTiwari</td>\n",
       "      <td>GirishKarnad</td>\n",
       "      <td>75</td>\n",
       "      <td>0.900</td>\n",
       "    </tr>\n",
       "  </tbody>\n",
       "</table>\n",
       "<p>139 rows × 5 columns</p>\n",
       "</div>"
      ],
      "text/plain": [
       "                                              name                    author  \\\n",
       "63978      \"Das Böse ist des Menschen beste Kraft\"         ChristianLiederer   \n",
       "63965      \"Das Böse ist des Menschen beste Kraft\"         ChristianLiederer   \n",
       "24625                         90 Minutes in Heaven     DonPiper,CecilMurphey   \n",
       "24116                         90 Minutes in Heaven     DonPiper,CecilMurphey   \n",
       "16971                                 Adagio in Dm                 BillBrown   \n",
       "...                                            ...                       ...   \n",
       "18338  What I Talk About When I Talk About Running            HarukiMurakami   \n",
       "38021                   When Women Ruled the World                KaraCooney   \n",
       "20260                   When Women Ruled the World                KaraCooney   \n",
       "22158                                Wings of Fire  APJAbdulKalam,ArunTiwari   \n",
       "64428                                Wings of Fire  APJAbdulKalam,ArunTiwari   \n",
       "\n",
       "           narrator  time_mins   price  \n",
       "63978  ThomasKrause        144   2.796  \n",
       "63965  ThomasKrause        144   2.796  \n",
       "24625      DonPiper        495   7.032  \n",
       "24116      DonPiper        495   7.032  \n",
       "16971     BillBrown         78   5.472  \n",
       "...             ...        ...     ...  \n",
       "18338     RayPorter        263   4.776  \n",
       "38021    KaraCooney        555  10.032  \n",
       "20260    KaraCooney        555  10.032  \n",
       "22158  GirishKarnad         75   0.900  \n",
       "64428  GirishKarnad         75   0.900  \n",
       "\n",
       "[139 rows x 5 columns]"
      ]
     },
     "execution_count": 33,
     "metadata": {},
     "output_type": "execute_result"
    }
   ],
   "source": [
    "# Check the duplicated rows keeping the duplicates and order by the name column\n",
    "duplicated_rows = subset_cols[subset_cols.duplicated(keep=False)]\n",
    "sorted_duplicated_rows = duplicated_rows.sort_values(by='name')\n",
    "sorted_duplicated_rows"
   ]
  },
  {
   "cell_type": "markdown",
   "id": "311c02af-9738-40c1-92b6-88ab1a71fc2f",
   "metadata": {},
   "source": [
    "We can see that the duplicates are for files with different release dates. We can decide to keep the record with the last release date.\n",
    "\n",
    "We will can use the `drop_duplicates()` method with the same subset and using `keep=last` to keep the last release date"
   ]
  },
  {
   "cell_type": "code",
   "execution_count": 34,
   "id": "93c6470a-fd3f-4624-b130-1e347e04d64b",
   "metadata": {
    "executionCancelledAt": null,
    "executionTime": 66,
    "lastExecutedAt": 1748146818413,
    "lastExecutedByKernel": "f1fefd03-4721-4032-a2f5-9594c5eae1aa",
    "lastScheduledRunId": null,
    "lastSuccessfullyExecutedCode": "# Drop duplicated rows keeping the last release date\ndf = df.drop_duplicates(subset=subset_cols, keep='last')"
   },
   "outputs": [],
   "source": [
    "# Drop duplicated rows keeping the last release date\n",
    "df = df.drop_duplicates(subset=subset_cols, keep='last')"
   ]
  },
  {
   "cell_type": "markdown",
   "id": "cdc50f0f-ba96-45e1-815f-605e9dd3fd06",
   "metadata": {},
   "source": [
    "We can check again for duplicates:"
   ]
  },
  {
   "cell_type": "code",
   "execution_count": 35,
   "id": "19a62e3b-3a6c-4a63-8e85-f46771fb86ec",
   "metadata": {
    "executionCancelledAt": null,
    "executionTime": 61,
    "lastExecutedAt": 1748146839363,
    "lastExecutedByKernel": "f1fefd03-4721-4032-a2f5-9594c5eae1aa",
    "lastScheduledRunId": null,
    "lastSuccessfullyExecutedCode": "# Check again for duplicates using our subset of columns\ndf.duplicated().sum()"
   },
   "outputs": [
    {
     "data": {
      "text/plain": [
       "0"
      ]
     },
     "execution_count": 35,
     "metadata": {},
     "output_type": "execute_result"
    }
   ],
   "source": [
    "# Check again for duplicates using our subset of columns\n",
    "df.duplicated().sum()"
   ]
  },
  {
   "cell_type": "markdown",
   "id": "88e86ba5-c4c4-4604-a15f-b5b582aedd92",
   "metadata": {},
   "source": [
    "## Task 8: Dealing with missing data\n",
    "\n",
    "Before we finish, let's take a look at missing data in our columns. We can use the `.isna()` method and chain it with `.sum()` to get the total:"
   ]
  },
  {
   "cell_type": "code",
   "execution_count": 36,
   "id": "cec72ccc-e505-42c7-9591-63fb7c60850b",
   "metadata": {
    "executionCancelledAt": null,
    "executionTime": null,
    "lastExecutedAt": null,
    "lastExecutedByKernel": null,
    "lastScheduledRunId": null,
    "lastSuccessfullyExecutedCode": null,
    "outputsMetadata": {
     "0": {
      "height": 50,
      "tableState": {
       "customFilter": {
        "const": {
         "type": "boolean",
         "valid": true,
         "value": true
        },
        "id": "f2b04d49-a2bb-4254-a505-3729d6d7bc75",
        "nodeType": "const"
       }
      },
      "type": "dataFrame"
     }
    }
   },
   "outputs": [
    {
     "data": {
      "text/plain": [
       "name                0\n",
       "author              0\n",
       "narrator            0\n",
       "releasedate         0\n",
       "language            0\n",
       "price               0\n",
       "rating_stars    72387\n",
       "n_ratings       72387\n",
       "time_mins           0\n",
       "dtype: int64"
      ]
     },
     "execution_count": 36,
     "metadata": {},
     "output_type": "execute_result"
    }
   ],
   "source": [
    "# Check for null values\n",
    "df.isna().sum()"
   ]
  },
  {
   "cell_type": "markdown",
   "id": "794f5889-ad5d-48f2-8bf0-a9ec802586ca",
   "metadata": {},
   "source": [
    "We could turn the **NaN** values to 0 or another numeric value, or we could keep them. It depends on our use case.\n",
    "\n",
    "If we want to plot the ratings distribution, it can make sense to drop audiobooks with no ratings. But if we need to use the distribution of prices for our analysis, then removing audiobooks with no ratings will bias our results (since unrated audiobooks are likely more niche and might have a different pricing structure than rated audiobooks).\n",
    "\n",
    "We will keep the unrated audiobooks for now."
   ]
  },
  {
   "cell_type": "markdown",
   "id": "1ee82272-cd9b-48d3-b2c3-a961a36153fb",
   "metadata": {},
   "source": [
    "## Task 9: Save the cleaned data set\n",
    "\n",
    "We can use the `.to_csv` method to save the clean file. We include `index=False` so that we don't also copy the current index to our destination file."
   ]
  },
  {
   "cell_type": "code",
   "execution_count": 98,
   "id": "025c632b-20ba-4f53-98fc-39897869c447",
   "metadata": {
    "executionCancelledAt": null,
    "executionTime": 455,
    "lastExecutedAt": 1748146940028,
    "lastExecutedByKernel": "f1fefd03-4721-4032-a2f5-9594c5eae1aa",
    "lastScheduledRunId": null,
    "lastSuccessfullyExecutedCode": "# Save the dataframe to a new file: 'audible_clean.csv'\ndf.to_csv('audible_clean.csv', index=False)"
   },
   "outputs": [],
   "source": [
    "# Save the dataframe to a new file: 'audible_clean.csv'\n",
    "df.to_csv('audible_clean.csv', index=False)"
   ]
  }
 ],
 "metadata": {
  "editor": "DataCamp Workspace",
  "kernelspec": {
   "display_name": "Python 3 (ipykernel)",
   "language": "python",
   "name": "python3"
  },
  "language_info": {
   "codemirror_mode": {
    "name": "ipython",
    "version": 3
   },
   "file_extension": ".py",
   "mimetype": "text/x-python",
   "name": "python",
   "nbconvert_exporter": "python",
   "pygments_lexer": "ipython3",
   "version": "3.9.13"
  }
 },
 "nbformat": 4,
 "nbformat_minor": 5
}
