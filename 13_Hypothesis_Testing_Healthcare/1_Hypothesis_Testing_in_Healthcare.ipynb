{
 "cells": [
  {
   "cell_type": "markdown",
   "id": "0e6b62b9-d889-4715-aa6c-e3075c44344d",
   "metadata": {},
   "source": [
    "### Project Description\n",
    "Pharmaceutical drugs have become an essential part of our health. Therefore, they need to be safe with little or no adverse effects.\n",
    "\n",
    "You work with a non-profit that advocates for pharmaceutical drug safety. One of Its tasks is to create reports on drugs independent of the drug manufacturer. You'll conduct several hypothesis tests using Python to determine if the adverse reactions of a hypothetical drug are significant. You'll also check if factors such as age significantly influence the adverse reactions."
   ]
  },
  {
   "cell_type": "code",
   "execution_count": 1,
   "id": "8a1a0fce-b98f-495f-9aaf-982a1d099260",
   "metadata": {},
   "outputs": [],
   "source": [
    "import numpy as np\n",
    "import pandas as pd\n",
    "from statsmodels.stats.proportion import proportions_ztest\n",
    "import pingouin as pg\n",
    "import scipy.stats as stats\n",
    "import seaborn as sns\n",
    "import matplotlib.pyplot as plt"
   ]
  },
  {
   "cell_type": "code",
   "execution_count": 2,
   "id": "fb7a7ec0-ebf3-4f65-8bca-18917d1e4b2f",
   "metadata": {},
   "outputs": [
    {
     "data": {
      "text/html": [
       "<div>\n",
       "<style scoped>\n",
       "    .dataframe tbody tr th:only-of-type {\n",
       "        vertical-align: middle;\n",
       "    }\n",
       "\n",
       "    .dataframe tbody tr th {\n",
       "        vertical-align: top;\n",
       "    }\n",
       "\n",
       "    .dataframe thead th {\n",
       "        text-align: right;\n",
       "    }\n",
       "</style>\n",
       "<table border=\"1\" class=\"dataframe\">\n",
       "  <thead>\n",
       "    <tr style=\"text-align: right;\">\n",
       "      <th></th>\n",
       "      <th>age</th>\n",
       "      <th>sex</th>\n",
       "      <th>trx</th>\n",
       "      <th>week</th>\n",
       "      <th>wbc</th>\n",
       "      <th>rbc</th>\n",
       "      <th>adverse_effects</th>\n",
       "      <th>num_effects</th>\n",
       "    </tr>\n",
       "  </thead>\n",
       "  <tbody>\n",
       "    <tr>\n",
       "      <th>0</th>\n",
       "      <td>62</td>\n",
       "      <td>male</td>\n",
       "      <td>Drug</td>\n",
       "      <td>0</td>\n",
       "      <td>7.3</td>\n",
       "      <td>5.1</td>\n",
       "      <td>No</td>\n",
       "      <td>0</td>\n",
       "    </tr>\n",
       "    <tr>\n",
       "      <th>1</th>\n",
       "      <td>62</td>\n",
       "      <td>male</td>\n",
       "      <td>Drug</td>\n",
       "      <td>1</td>\n",
       "      <td>NaN</td>\n",
       "      <td>NaN</td>\n",
       "      <td>No</td>\n",
       "      <td>0</td>\n",
       "    </tr>\n",
       "    <tr>\n",
       "      <th>2</th>\n",
       "      <td>62</td>\n",
       "      <td>male</td>\n",
       "      <td>Drug</td>\n",
       "      <td>12</td>\n",
       "      <td>5.6</td>\n",
       "      <td>5.0</td>\n",
       "      <td>No</td>\n",
       "      <td>0</td>\n",
       "    </tr>\n",
       "    <tr>\n",
       "      <th>3</th>\n",
       "      <td>62</td>\n",
       "      <td>male</td>\n",
       "      <td>Drug</td>\n",
       "      <td>16</td>\n",
       "      <td>NaN</td>\n",
       "      <td>NaN</td>\n",
       "      <td>No</td>\n",
       "      <td>0</td>\n",
       "    </tr>\n",
       "    <tr>\n",
       "      <th>4</th>\n",
       "      <td>62</td>\n",
       "      <td>male</td>\n",
       "      <td>Drug</td>\n",
       "      <td>2</td>\n",
       "      <td>6.6</td>\n",
       "      <td>5.1</td>\n",
       "      <td>No</td>\n",
       "      <td>0</td>\n",
       "    </tr>\n",
       "  </tbody>\n",
       "</table>\n",
       "</div>"
      ],
      "text/plain": [
       "   age   sex   trx  week  wbc  rbc adverse_effects  num_effects\n",
       "0   62  male  Drug     0  7.3  5.1              No            0\n",
       "1   62  male  Drug     1  NaN  NaN              No            0\n",
       "2   62  male  Drug    12  5.6  5.0              No            0\n",
       "3   62  male  Drug    16  NaN  NaN              No            0\n",
       "4   62  male  Drug     2  6.6  5.1              No            0"
      ]
     },
     "execution_count": 2,
     "metadata": {},
     "output_type": "execute_result"
    }
   ],
   "source": [
    "# Load the dataset\n",
    "drug_safety = pd.read_csv(\"drug_safety.csv\")\n",
    "drug_safety.head()"
   ]
  },
  {
   "cell_type": "code",
   "execution_count": 4,
   "id": "9e02e976-6652-4bef-96f3-e1a9b502df8c",
   "metadata": {},
   "outputs": [
    {
     "data": {
      "text/plain": [
       "age                   0\n",
       "sex                   0\n",
       "trx                   0\n",
       "week                  0\n",
       "wbc                6975\n",
       "rbc                6976\n",
       "adverse_effects       0\n",
       "num_effects           0\n",
       "dtype: int64"
      ]
     },
     "execution_count": 4,
     "metadata": {},
     "output_type": "execute_result"
    }
   ],
   "source": [
    "# Checking for null values\n",
    "drug_safety.isna().sum()"
   ]
  },
  {
   "cell_type": "code",
   "execution_count": 5,
   "id": "144def62-8316-4dd7-8da4-d71aadabb7de",
   "metadata": {},
   "outputs": [],
   "source": [
    "# Filling null values with mean method\n",
    "drug_safety['wbc'] = drug_safety['wbc'].fillna(drug_safety['wbc'].mean())\n",
    "drug_safety['rbc'] = drug_safety['rbc'].fillna(drug_safety['rbc'].mean())"
   ]
  },
  {
   "cell_type": "code",
   "execution_count": 6,
   "id": "e4edbde7-a902-4186-bcb3-bf73389cd5fc",
   "metadata": {},
   "outputs": [
    {
     "data": {
      "text/plain": [
       "age                0\n",
       "sex                0\n",
       "trx                0\n",
       "week               0\n",
       "wbc                0\n",
       "rbc                0\n",
       "adverse_effects    0\n",
       "num_effects        0\n",
       "dtype: int64"
      ]
     },
     "execution_count": 6,
     "metadata": {},
     "output_type": "execute_result"
    }
   ],
   "source": [
    "drug_safety.isna().sum()"
   ]
  },
  {
   "cell_type": "code",
   "execution_count": 7,
   "id": "3c6b8992-bff9-44dd-a648-d02e5fff37cf",
   "metadata": {},
   "outputs": [
    {
     "data": {
      "text/plain": [
       "trx      adverse_effects\n",
       "Drug     No                 9703\n",
       "         Yes                1024\n",
       "Placebo  No                 4864\n",
       "         Yes                 512\n",
       "Name: count, dtype: int64"
      ]
     },
     "execution_count": 7,
     "metadata": {},
     "output_type": "execute_result"
    }
   ],
   "source": [
    "# Count the adverse_effects column values for each trx group\n",
    "adv_eff_by_trx = drug_safety.groupby(\"trx\").adverse_effects.value_counts()\n",
    "adv_eff_by_trx"
   ]
  },
  {
   "cell_type": "code",
   "execution_count": 8,
   "id": "368ff5d8-0d6a-4c32-8a3f-6b5474b54623",
   "metadata": {},
   "outputs": [
    {
     "data": {
      "text/plain": [
       "trx\n",
       "Drug       10727\n",
       "Placebo     5376\n",
       "Name: count, dtype: int64"
      ]
     },
     "execution_count": 8,
     "metadata": {},
     "output_type": "execute_result"
    }
   ],
   "source": [
    "# Compute total rows in each group\n",
    "adv_eff_by_trx_totals = adv_eff_by_trx.groupby(\"trx\").sum()\n",
    "adv_eff_by_trx_totals"
   ]
  },
  {
   "cell_type": "code",
   "execution_count": 9,
   "id": "d1af69bb-d039-4adb-95fa-3af076bed693",
   "metadata": {},
   "outputs": [
    {
     "name": "stdout",
     "output_type": "stream",
     "text": [
      "[1024, 512]\n"
     ]
    }
   ],
   "source": [
    "# Create an array of the \"Yes\" counts for each group\n",
    "yeses = [adv_eff_by_trx[\"Drug\"][\"Yes\"], adv_eff_by_trx[\"Placebo\"][\"Yes\"]]\n",
    "print(yeses)"
   ]
  },
  {
   "cell_type": "code",
   "execution_count": 10,
   "id": "295e59b2-0d5e-4a06-a473-dbb1293f2b5d",
   "metadata": {},
   "outputs": [
    {
     "data": {
      "text/plain": [
       "[10727, 5376]"
      ]
     },
     "execution_count": 10,
     "metadata": {},
     "output_type": "execute_result"
    }
   ],
   "source": [
    "# Create an array of the total number of rows in each group\n",
    "n_rows = [adv_eff_by_trx_totals[\"Drug\"], adv_eff_by_trx_totals[\"Placebo\"]]\n",
    "n_rows"
   ]
  },
  {
   "cell_type": "code",
   "execution_count": 11,
   "id": "a888117c-a3eb-415b-b206-78f3c53a725b",
   "metadata": {},
   "outputs": [
    {
     "data": {
      "text/plain": [
       "(0.0452182684494942, 0.9639333330262475)"
      ]
     },
     "execution_count": 11,
     "metadata": {},
     "output_type": "execute_result"
    }
   ],
   "source": [
    "# Perform a two-sided z-test on the two proportions\n",
    "two_sample_results = proportions_ztest(yeses, n_rows)\n",
    "two_sample_results"
   ]
  },
  {
   "cell_type": "code",
   "execution_count": 12,
   "id": "55f9d7e1-1d0b-4de8-a464-317d4592d47c",
   "metadata": {},
   "outputs": [
    {
     "data": {
      "text/plain": [
       "0.9639333330262475"
      ]
     },
     "execution_count": 12,
     "metadata": {},
     "output_type": "execute_result"
    }
   ],
   "source": [
    "# Store the p-value\n",
    "two_sample_p_value = two_sample_results[1]\n",
    "two_sample_p_value"
   ]
  },
  {
   "cell_type": "code",
   "execution_count": 14,
   "id": "3c8b35ad-ffd0-49a9-850d-e2188bb9736d",
   "metadata": {},
   "outputs": [
    {
     "name": "stderr",
     "output_type": "stream",
     "text": [
      "/Library/Frameworks/Python.framework/Versions/3.9/lib/python3.9/site-packages/pingouin/contingency.py:151: UserWarning: Low count on observed frequencies.\n",
      "  warnings.warn(f\"Low count on {name} frequencies.\")\n",
      "/Library/Frameworks/Python.framework/Versions/3.9/lib/python3.9/site-packages/pingouin/contingency.py:151: UserWarning: Low count on expected frequencies.\n",
      "  warnings.warn(f\"Low count on {name} frequencies.\")\n"
     ]
    }
   ],
   "source": [
    "# Determine if num_effects and trx are independent\n",
    "num_effects_groups = pg.chi2_independence(\n",
    "    data=drug_safety, x=\"num_effects\", y=\"trx\")"
   ]
  },
  {
   "cell_type": "code",
   "execution_count": 15,
   "id": "1d0af492-b328-49cc-9eca-52d72d3a39d7",
   "metadata": {},
   "outputs": [
    {
     "data": {
      "text/plain": [
       "0.6150123339426765"
      ]
     },
     "execution_count": 15,
     "metadata": {},
     "output_type": "execute_result"
    }
   ],
   "source": [
    "# Extract the p-value\n",
    "num_effects_p_value = num_effects_groups[2][\"pval\"][0]\n",
    "num_effects_p_value"
   ]
  },
  {
   "cell_type": "code",
   "execution_count": 24,
   "id": "4b5657d8-8223-4094-b6d1-23e860ce2d4f",
   "metadata": {},
   "outputs": [
    {
     "name": "stdout",
     "output_type": "stream",
     "text": [
      "Unique values in 'num_effects':\n",
      "num_effects\n",
      "0    14567\n",
      "1     1442\n",
      "2       88\n",
      "3        6\n",
      "Name: count, dtype: int64\n",
      "\n",
      "Unique values in 'trx':\n",
      "trx\n",
      "Drug       10727\n",
      "Placebo     5376\n",
      "Name: count, dtype: int64\n"
     ]
    }
   ],
   "source": [
    "# First, let's examine the structure of your data\n",
    "print(\"Unique values in 'num_effects':\")\n",
    "print(drug_safety[\"num_effects\"].value_counts().sort_index())\n",
    "print(\"\\nUnique values in 'trx':\")\n",
    "print(drug_safety[\"trx\"].value_counts())"
   ]
  },
  {
   "cell_type": "code",
   "execution_count": 25,
   "id": "fa215acc-0feb-4a0c-ac7c-c3d079a4b016",
   "metadata": {},
   "outputs": [
    {
     "name": "stdout",
     "output_type": "stream",
     "text": [
      "\n",
      "Current contingency table shape: (4, 2)\n",
      "Current contingency table:\n",
      "trx          Drug  Placebo\n",
      "num_effects               \n",
      "0            9703     4864\n",
      "1             956      486\n",
      "2              63       25\n",
      "3               5        1\n"
     ]
    }
   ],
   "source": [
    "# Check the current contingency table shape\n",
    "contingency_table = pd.crosstab(drug_safety[\"num_effects\"], drug_safety[\"trx\"])\n",
    "print(f\"\\nCurrent contingency table shape: {contingency_table.shape}\")\n",
    "print(\"Current contingency table:\")\n",
    "print(contingency_table)"
   ]
  },
  {
   "cell_type": "code",
   "execution_count": 26,
   "id": "5918adcd-7993-428b-96d9-e66a23f4db7b",
   "metadata": {},
   "outputs": [
    {
     "name": "stdout",
     "output_type": "stream",
     "text": [
      "\n",
      "Binary contingency table shape: (2, 2)\n",
      "Binary contingency table (0=No effects, 1=Has effects):\n",
      "trx          Drug  Placebo\n",
      "has_effects               \n",
      "0            9703     4864\n",
      "1            1024      512\n"
     ]
    }
   ],
   "source": [
    "# Solution 1: Convert num_effects to binary (0 effects vs 1+ effects)\n",
    "drug_safety[\"has_effects\"] = (drug_safety[\"num_effects\"] > 0).astype(int)\n",
    "contingency_table_binary = pd.crosstab(drug_safety[\"has_effects\"], drug_safety[\"trx\"])\n",
    "\n",
    "print(f\"\\nBinary contingency table shape: {contingency_table_binary.shape}\")\n",
    "print(\"Binary contingency table (0=No effects, 1=Has effects):\")\n",
    "print(contingency_table_binary)"
   ]
  },
  {
   "cell_type": "code",
   "execution_count": 29,
   "id": "5dca9370-6bdc-442b-9331-9d973968c198",
   "metadata": {},
   "outputs": [
    {
     "name": "stdout",
     "output_type": "stream",
     "text": [
      "\n",
      "Filtered contingency table shape (0 vs 1 effects only): (2, 2)\n",
      "Filtered contingency table:\n",
      "trx          Drug  Placebo\n",
      "num_effects               \n",
      "0            9703     4864\n",
      "1             956      486\n"
     ]
    }
   ],
   "source": [
    "# Solution 2: If you want to compare specific effect counts (e.g., 0 vs 1 effects only)\n",
    "# Filter data to include only rows with 0 or 1 effects\n",
    "filtered_data = drug_safety[drug_safety[\"num_effects\"].isin([0, 1])]\n",
    "if len(filtered_data) > 0:\n",
    "    contingency_table_filtered = pd.crosstab(filtered_data[\"num_effects\"], filtered_data[\"trx\"])\n",
    "    print(f\"\\nFiltered contingency table shape (0 vs 1 effects only): {contingency_table_filtered.shape}\")\n",
    "    print(\"Filtered contingency table:\")\n",
    "    print(contingency_table_filtered)"
   ]
  },
  {
   "cell_type": "code",
   "execution_count": 31,
   "id": "fc6a71cc-6d64-4225-a8d7-2d6fcc49bed9",
   "metadata": {},
   "outputs": [],
   "source": [
    "# Create 2x2 table by combining categories if needed\n",
    "drug_safety[\"effect_binary\"] = drug_safety[\"num_effects\"].apply(\n",
    "    lambda x: \"No effects\" if x == 0 else \"Has effects\"\n",
    ")"
   ]
  },
  {
   "cell_type": "code",
   "execution_count": 33,
   "id": "1b26a718-21f8-427f-af2d-b899fdd459d3",
   "metadata": {},
   "outputs": [
    {
     "name": "stdout",
     "output_type": "stream",
     "text": [
      "Final 2x2 contingency table shape: (2, 2)\n",
      "Final 2x2 contingency table:\n",
      "trx            Drug  Placebo\n",
      "effect_binary               \n",
      "Has effects    1024      512\n",
      "No effects     9703     4864\n"
     ]
    }
   ],
   "source": [
    "contingency_table_final = pd.crosstab(drug_safety[\"effect_binary\"], drug_safety[\"trx\"])\n",
    "print(f\"Final 2x2 contingency table shape: {contingency_table_final.shape}\")\n",
    "print(\"Final 2x2 contingency table:\")\n",
    "print(contingency_table_final)"
   ]
  },
  {
   "cell_type": "code",
   "execution_count": 36,
   "id": "ac09cbba-d205-4635-b691-0bab58db21d2",
   "metadata": {},
   "outputs": [
    {
     "name": "stdout",
     "output_type": "stream",
     "text": [
      "As numpy array shape: (2, 2)\n",
      "Array:\n",
      "[[1024  512]\n",
      " [9703 4864]]\n"
     ]
    }
   ],
   "source": [
    "# If you need the table as a numpy array for statistical tests\n",
    "contingency_array = contingency_table_final.values\n",
    "print(f\"As numpy array shape: {contingency_array.shape}\")\n",
    "print(\"Array:\")\n",
    "print(contingency_array)"
   ]
  },
  {
   "cell_type": "code",
   "execution_count": 35,
   "id": "0984f6ad-92ea-4de6-b45e-6b25492f6277",
   "metadata": {},
   "outputs": [
    {
     "name": "stdout",
     "output_type": "stream",
     "text": [
      "p-value: 0.9773134047112164\n"
     ]
    }
   ],
   "source": [
    "# Run Fisher's exact test\n",
    "fisher_result = stats.fisher_exact(contingency_table_final)\n",
    "print(\"p-value:\", fisher_result[1])"
   ]
  },
  {
   "cell_type": "code",
   "execution_count": 37,
   "id": "a122e37a-a545-4b04-8d00-11e1261df58e",
   "metadata": {},
   "outputs": [
    {
     "name": "stdout",
     "output_type": "stream",
     "text": [
      "p-value: 0.9773134047112164\n"
     ]
    }
   ],
   "source": [
    "# Create the contingency table\n",
    "# contingency_table = pd.crosstab(drug_safety[\"num_effects\"], drug_safety[\"trx\"])\n",
    "\n",
    "# Run Fisher's exact test\n",
    "fisher_result = stats.fisher_exact(contingency_array)\n",
    "print(\"p-value:\", fisher_result[1])"
   ]
  },
  {
   "cell_type": "code",
   "execution_count": 38,
   "id": "cbb15174-886c-4d2f-83ec-55a5a322204d",
   "metadata": {},
   "outputs": [
    {
     "data": {
      "image/png": "[encoded data removed]",
      "text/plain": [
       "<Figure size 640x480 with 1 Axes>"
      ]
     },
     "metadata": {},
     "output_type": "display_data"
    }
   ],
   "source": [
    "# Create a histogram with Seaborn\n",
    "sns.histplot(data=drug_safety, x=\"age\", hue=\"trx\")\n",
    "plt.show()"
   ]
  },
  {
   "cell_type": "code",
   "execution_count": null,
   "id": "e3bb496e-b79c-4947-b2bf-b06fe79f921d",
   "metadata": {},
   "outputs": [],
   "source": [
    "Available Methods\n",
    "\n",
    "'shapiro' (default)\n",
    "Shapiro-Wilk test\n",
    "Most powerful test for small to medium sample sizes (n < 50)\n",
    "Good general-purpose choice\n",
    "\n",
    "'normaltest'\n",
    "D'Agostino and Pearson's test\n",
    "Combines skewness and kurtosis tests\n",
    "Works well for larger sample sizes\n",
    "\n",
    "'jarque_bera'\n",
    "Jarque-Bera test\n",
    "Based on skewness and kurtosis\n",
    "Commonly used in econometrics\n",
    "Good for larger samples (n > 30)\n",
    "\n",
    "'anderson'\n",
    "Anderson-Darling test\n",
    "More sensitive to deviations in the tails\n",
    "Good alternative to Shapiro-Wilk"
   ]
  },
  {
   "cell_type": "code",
   "execution_count": 43,
   "id": "786b781a-f3de-4ca5-82dc-e417ed71206b",
   "metadata": {},
   "outputs": [
    {
     "data": {
      "text/html": [
       "<div>\n",
       "<style scoped>\n",
       "    .dataframe tbody tr th:only-of-type {\n",
       "        vertical-align: middle;\n",
       "    }\n",
       "\n",
       "    .dataframe tbody tr th {\n",
       "        vertical-align: top;\n",
       "    }\n",
       "\n",
       "    .dataframe thead th {\n",
       "        text-align: right;\n",
       "    }\n",
       "</style>\n",
       "<table border=\"1\" class=\"dataframe\">\n",
       "  <thead>\n",
       "    <tr style=\"text-align: right;\">\n",
       "      <th></th>\n",
       "      <th>W</th>\n",
       "      <th>pval</th>\n",
       "      <th>normal</th>\n",
       "    </tr>\n",
       "    <tr>\n",
       "      <th>trx</th>\n",
       "      <th></th>\n",
       "      <th></th>\n",
       "      <th></th>\n",
       "    </tr>\n",
       "  </thead>\n",
       "  <tbody>\n",
       "    <tr>\n",
       "      <th>Drug</th>\n",
       "      <td>406.664169</td>\n",
       "      <td>4.943080e-89</td>\n",
       "      <td>False</td>\n",
       "    </tr>\n",
       "    <tr>\n",
       "      <th>Placebo</th>\n",
       "      <td>224.419000</td>\n",
       "      <td>1.853674e-49</td>\n",
       "      <td>False</td>\n",
       "    </tr>\n",
       "  </tbody>\n",
       "</table>\n",
       "</div>"
      ],
      "text/plain": [
       "                  W          pval  normal\n",
       "trx                                      \n",
       "Drug     406.664169  4.943080e-89   False\n",
       "Placebo  224.419000  1.853674e-49   False"
      ]
     },
     "execution_count": 43,
     "metadata": {},
     "output_type": "execute_result"
    }
   ],
   "source": [
    "# Optionally - confirm the histogram's output by conducting a normality test\n",
    "# To choose between unpaired t-test and Wilcoxon-Mann-Whitney test\n",
    "normality = pg.normality(data=drug_safety, dv='age', group='trx', \n",
    "                         method='normaltest',  \n",
    "                         alpha=0.05) # 0.05 is also the default\n",
    "normality"
   ]
  },
  {
   "cell_type": "code",
   "execution_count": 44,
   "id": "cd53dcd7-eaad-4237-964d-29660251b8bd",
   "metadata": {},
   "outputs": [
    {
     "data": {
      "text/plain": [
       "0        62\n",
       "1        62\n",
       "2        62\n",
       "3        62\n",
       "4        62\n",
       "         ..\n",
       "16074    60\n",
       "16075    60\n",
       "16092    68\n",
       "16093    68\n",
       "16094    68\n",
       "Name: age, Length: 10727, dtype: int64"
      ]
     },
     "execution_count": 44,
     "metadata": {},
     "output_type": "execute_result"
    }
   ],
   "source": [
    "# Select the age of the Drug group\n",
    "age_trx = drug_safety.loc[drug_safety[\"trx\"] == \"Drug\", \"age\"]\n",
    "age_trx"
   ]
  },
  {
   "cell_type": "code",
   "execution_count": 45,
   "id": "2ce60f3b-1fbb-4e5a-9267-2fd3cca2a8a9",
   "metadata": {},
   "outputs": [
    {
     "data": {
      "text/plain": [
       "32       73\n",
       "33       73\n",
       "34       73\n",
       "35       73\n",
       "36       73\n",
       "         ..\n",
       "16098    78\n",
       "16099    78\n",
       "16100    78\n",
       "16101    78\n",
       "16102    78\n",
       "Name: age, Length: 5376, dtype: int64"
      ]
     },
     "execution_count": 45,
     "metadata": {},
     "output_type": "execute_result"
    }
   ],
   "source": [
    "# Select the age of the Placebo group\n",
    "age_placebo = drug_safety.loc[drug_safety[\"trx\"] == \"Placebo\", \"age\"]\n",
    "age_placebo"
   ]
  },
  {
   "cell_type": "code",
   "execution_count": 46,
   "id": "206c023a-5e7d-41c7-ae0f-64981ed92117",
   "metadata": {},
   "outputs": [
    {
     "data": {
      "text/html": [
       "<div>\n",
       "<style scoped>\n",
       "    .dataframe tbody tr th:only-of-type {\n",
       "        vertical-align: middle;\n",
       "    }\n",
       "\n",
       "    .dataframe tbody tr th {\n",
       "        vertical-align: top;\n",
       "    }\n",
       "\n",
       "    .dataframe thead th {\n",
       "        text-align: right;\n",
       "    }\n",
       "</style>\n",
       "<table border=\"1\" class=\"dataframe\">\n",
       "  <thead>\n",
       "    <tr style=\"text-align: right;\">\n",
       "      <th></th>\n",
       "      <th>U-val</th>\n",
       "      <th>alternative</th>\n",
       "      <th>p-val</th>\n",
       "      <th>RBC</th>\n",
       "      <th>CLES</th>\n",
       "    </tr>\n",
       "  </thead>\n",
       "  <tbody>\n",
       "    <tr>\n",
       "      <th>MWU</th>\n",
       "      <td>29149339.5</td>\n",
       "      <td>two-sided</td>\n",
       "      <td>0.256963</td>\n",
       "      <td>0.01093</td>\n",
       "      <td>0.505465</td>\n",
       "    </tr>\n",
       "  </tbody>\n",
       "</table>\n",
       "</div>"
      ],
      "text/plain": [
       "          U-val alternative     p-val      RBC      CLES\n",
       "MWU  29149339.5   two-sided  0.256963  0.01093  0.505465"
      ]
     },
     "execution_count": 46,
     "metadata": {},
     "output_type": "execute_result"
    }
   ],
   "source": [
    "# Since the data distribution is not normal\n",
    "# Conduct a two-sided Mann-Whitney U test\n",
    "age_group_effects = pg.mwu(age_trx, age_placebo)\n",
    "age_group_effects"
   ]
  },
  {
   "cell_type": "code",
   "execution_count": 47,
   "id": "3e154c47-e22f-4c39-afd9-d0ddb247b86c",
   "metadata": {},
   "outputs": [
    {
     "data": {
      "text/plain": [
       "MWU    0.256963\n",
       "Name: p-val, dtype: float64"
      ]
     },
     "execution_count": 47,
     "metadata": {},
     "output_type": "execute_result"
    }
   ],
   "source": [
    "# Extract the p-value\n",
    "age_group_effects_p_value = age_group_effects[\"p-val\"]\n",
    "age_group_effects_p_value"
   ]
  },
  {
   "cell_type": "code",
   "execution_count": null,
   "id": "d9d4726d-1d37-400a-9e8c-f4bca7c2adf0",
   "metadata": {},
   "outputs": [],
   "source": []
  }
 ],
 "metadata": {
  "kernelspec": {
   "display_name": "Python 3 (ipykernel)",
   "language": "python",
   "name": "python3"
  },
  "language_info": {
   "codemirror_mode": {
    "name": "ipython",
    "version": 3
   },
   "file_extension": ".py",
   "mimetype": "text/x-python",
   "name": "python",
   "nbconvert_exporter": "python",
   "pygments_lexer": "ipython3",
   "version": "3.9.13"
  }
 },
 "nbformat": 4,
 "nbformat_minor": 5
}
