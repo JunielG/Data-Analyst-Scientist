{
 "cells": [
  {
   "cell_type": "markdown",
   "id": "c0672a78-54fb-4e9b-b617-bf43e781f0ba",
   "metadata": {},
   "source": [
    "![rocket_img](rocket_img.jpg)\n",
    "\n",
    "\n"
   ]
  },
  {
   "cell_type": "markdown",
   "id": "d23e9759-c345-4665-9b02-eaf3932cfa51",
   "metadata": {},
   "source": [
    "You recently quit your job to start a space logistics company that uses rockets to deliver critical cargo to colonies on demand. Since you're still in the startup phase, you're handling everything yourself, including writing the software to manage complex scheduling and timing across different space colonies.\n",
    "\n",
    "Before developing a full rocket flight planning and logistics system, you want to create core functions using Python's datetime module to handle dates, times, and durations. These basic functions are essential for your rocket delivery service. In this project, you will make simple reusable functions for working with timestamps, calculating rocket landing times based on launch and travel duration, and figuring out days until a delivery deadline to keep those customers updated!\n",
    "\n",
    "This project is data-less, but you can test your functions by calling them in the workspace and passing them the required variables."
   ]
  },
  {
   "cell_type": "code",
   "execution_count": 1,
   "id": "b73875a4-ec41-4739-8670-764f75f2804f",
   "metadata": {
    "executionCancelledAt": null,
    "executionTime": 3525,
    "lastExecutedAt": 1746577568295,
    "lastExecutedByKernel": "60abf228-d418-4c8d-a763-9869e6f5f556",
    "lastScheduledRunId": null,
    "lastSuccessfullyExecutedCode": "# Re-run this cell\nfrom datetime import datetime, timedelta"
   },
   "outputs": [],
   "source": [
    "from datetime import datetime, timedelta"
   ]
  },
  {
   "cell_type": "code",
   "execution_count": 2,
   "id": "e88ef3f4-c383-4b8b-adad-9e654b4769ba",
   "metadata": {},
   "outputs": [],
   "source": [
    "def format_date(timestamp, datetime_format):\n",
    "    # Convert timestamp arg to datetime object and save result in new variable\n",
    "\n",
    "    datetime_object = datetime.fromtimestamp(timestamp)\n",
    "    # Format datetime_obj to string using the datetime_format arg\n",
    "    \n",
    "    datetime_string = datetime_object.strftime(datetime_format)\n",
    "    # Return formatted datetime string\n",
    "    \n",
    "    return datetime_string"
   ]
  },
  {
   "cell_type": "code",
   "execution_count": 3,
   "id": "4a598d94-6715-489a-95f5-76732fdbe168",
   "metadata": {},
   "outputs": [],
   "source": [
    "# Define calculate_landing_time function accepting launch datetime and duration\n",
    "def calculate_landing_time(rocket_launch_dt, travel_duration):\n",
    "    # Calculate landing by adding travel_duration to rocket_launch_dt arg and save result in new variable\n",
    "   \n",
    "    landing_date = rocket_launch_dt + timedelta(days=travel_duration)\n",
    "    # Format landing datetime to string in specified format\n",
    "    \n",
    "    landing_date_string = landing_date.strftime(\"%d-%m-%Y\") \n",
    "    # Return landing date time string \n",
    "    \n",
    "    return landing_date_string"
   ]
  },
  {
   "cell_type": "code",
   "execution_count": 4,
   "id": "d33a6e90-c502-4dc0-81a3-a1baf609f00a",
   "metadata": {},
   "outputs": [],
   "source": [
    "# Define days_until_delivery function accepting expected and current datetimes \n",
    "def days_until_delivery(expected_delivery_dt, current_dt):\n",
    "    # Calculate the time until delivery by subtracting current_dt arg from the expected_delivery_dt arg \n",
    "    \n",
    "    time_until_delivery = expected_delivery_dt - current_dt\n",
    "    # Access the date component of the datetime object\n",
    "    \n",
    "    days_until = time_until_delivery.days\n",
    "    # Return number of days until delivery\n",
    "    \n",
    "    return days_until"
   ]
  },
  {
   "cell_type": "code",
   "execution_count": 5,
   "id": "64eaf32f-1b70-410b-b90b-f3ca0ca330a5",
   "metadata": {
    "executionCancelledAt": null,
    "executionTime": 13,
    "lastExecutedAt": 1746577672726,
    "lastExecutedByKernel": "60abf228-d418-4c8d-a763-9869e6f5f556",
    "lastScheduledRunId": null,
    "lastSuccessfullyExecutedCode": "format_date(1514665153, \"%d-%m-%Y\")"
   },
   "outputs": [
    {
     "data": {
      "text/plain": [
       "'30-12-2017'"
      ]
     },
     "execution_count": 5,
     "metadata": {},
     "output_type": "execute_result"
    }
   ],
   "source": [
    "format_date(1514665153, \"%d-%m-%Y\")"
   ]
  },
  {
   "cell_type": "code",
   "execution_count": 6,
   "id": "20b54ddc-3bf5-4e53-a873-e6b797c26f9b",
   "metadata": {
    "executionCancelledAt": null,
    "executionTime": 51,
    "lastExecutedAt": 1746577688327,
    "lastExecutedByKernel": "60abf228-d418-4c8d-a763-9869e6f5f556",
    "lastScheduledRunId": null,
    "lastSuccessfullyExecutedCode": "calculate_landing_time(datetime(2023, 2, 15), 20)"
   },
   "outputs": [
    {
     "data": {
      "text/plain": [
       "'07-03-2023'"
      ]
     },
     "execution_count": 6,
     "metadata": {},
     "output_type": "execute_result"
    }
   ],
   "source": [
    "calculate_landing_time(datetime(2023, 2, 15), 20)"
   ]
  },
  {
   "cell_type": "code",
   "execution_count": 7,
   "id": "6240dba8-15bc-4866-a946-25e0e7e2e1fe",
   "metadata": {
    "executionCancelledAt": null,
    "executionTime": 11,
    "lastExecutedAt": 1746577700692,
    "lastExecutedByKernel": "60abf228-d418-4c8d-a763-9869e6f5f556",
    "lastScheduledRunId": null,
    "lastSuccessfullyExecutedCode": "days_until_delivery(datetime(2023, 2, 15), datetime(2023, 2, 5))"
   },
   "outputs": [
    {
     "data": {
      "text/plain": [
       "10"
      ]
     },
     "execution_count": 7,
     "metadata": {},
     "output_type": "execute_result"
    }
   ],
   "source": [
    "days_until_delivery(datetime(2023, 2, 15), datetime(2023, 2, 5))"
   ]
  },
  {
   "cell_type": "code",
   "execution_count": null,
   "id": "16a2e267-3c2e-4516-a34d-3faa1462ea3b",
   "metadata": {},
   "outputs": [],
   "source": []
  }
 ],
 "metadata": {
  "editor": "DataCamp Workspace",
  "kernelspec": {
   "display_name": "Python 3 (ipykernel)",
   "language": "python",
   "name": "python3"
  },
  "language_info": {
   "codemirror_mode": {
    "name": "ipython",
    "version": 3
   },
   "file_extension": ".py",
   "mimetype": "text/x-python",
   "name": "python",
   "nbconvert_exporter": "python",
   "pygments_lexer": "ipython3",
   "version": "3.9.13"
  }
 },
 "nbformat": 4,
 "nbformat_minor": 5
}
