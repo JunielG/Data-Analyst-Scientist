{
 "cells": [
  {
   "cell_type": "markdown",
   "id": "7bd89eb6-93da-4352-bb10-0fa74f0cf6fa",
   "metadata": {},
   "source": [
    "## Exploring Airbnb Market Trends\n",
    "Apply your importing and cleaning data and data manipulation skills to explore New York City Airbnb data.\n",
    "\n",
    "#### Project Description\n",
    "New York City has a variety of Airbnb listings to meet the high demand for temporary lodging for travelers, with several different price levels, room types, and locations.\n",
    "Practice your skills in importing and cleaning data and data manipulation and report insights to a real estate start-up!"
   ]
  },
  {
   "cell_type": "code",
   "execution_count": 1,
   "id": "5deaec7b-e7d8-4bef-b7ec-e47831795048",
   "metadata": {},
   "outputs": [],
   "source": [
    "# Import necessary packages\n",
    "import pandas as pd\n",
    "import numpy as np"
   ]
  },
  {
   "cell_type": "markdown",
   "id": "7f923d64-c6de-4924-bac7-4c71b00e7bac",
   "metadata": {},
   "source": [
    "### Cleaning Price data"
   ]
  },
  {
   "cell_type": "code",
   "execution_count": 2,
   "id": "af4c6b8d-6524-4429-bc00-e2283fe065e0",
   "metadata": {},
   "outputs": [
    {
     "data": {
      "text/html": [
       "<div>\n",
       "<style scoped>\n",
       "    .dataframe tbody tr th:only-of-type {\n",
       "        vertical-align: middle;\n",
       "    }\n",
       "\n",
       "    .dataframe tbody tr th {\n",
       "        vertical-align: top;\n",
       "    }\n",
       "\n",
       "    .dataframe thead th {\n",
       "        text-align: right;\n",
       "    }\n",
       "</style>\n",
       "<table border=\"1\" class=\"dataframe\">\n",
       "  <thead>\n",
       "    <tr style=\"text-align: right;\">\n",
       "      <th></th>\n",
       "      <th>index</th>\n",
       "      <th>listing_id</th>\n",
       "      <th>price</th>\n",
       "      <th>nbhood_full</th>\n",
       "    </tr>\n",
       "  </thead>\n",
       "  <tbody>\n",
       "    <tr>\n",
       "      <th>0</th>\n",
       "      <td>0</td>\n",
       "      <td>2595</td>\n",
       "      <td>225 dollars</td>\n",
       "      <td>Manhattan, Midtown</td>\n",
       "    </tr>\n",
       "    <tr>\n",
       "      <th>1</th>\n",
       "      <td>1</td>\n",
       "      <td>3831</td>\n",
       "      <td>89 dollars</td>\n",
       "      <td>Brooklyn, Clinton Hill</td>\n",
       "    </tr>\n",
       "    <tr>\n",
       "      <th>2</th>\n",
       "      <td>2</td>\n",
       "      <td>5099</td>\n",
       "      <td>200 dollars</td>\n",
       "      <td>Manhattan, Murray Hill</td>\n",
       "    </tr>\n",
       "    <tr>\n",
       "      <th>3</th>\n",
       "      <td>3</td>\n",
       "      <td>5178</td>\n",
       "      <td>79 dollars</td>\n",
       "      <td>Manhattan, Hell's Kitchen</td>\n",
       "    </tr>\n",
       "    <tr>\n",
       "      <th>4</th>\n",
       "      <td>4</td>\n",
       "      <td>5238</td>\n",
       "      <td>150 dollars</td>\n",
       "      <td>Manhattan, Chinatown</td>\n",
       "    </tr>\n",
       "  </tbody>\n",
       "</table>\n",
       "</div>"
      ],
      "text/plain": [
       "   index  listing_id        price                nbhood_full\n",
       "0      0        2595  225 dollars         Manhattan, Midtown\n",
       "1      1        3831   89 dollars     Brooklyn, Clinton Hill\n",
       "2      2        5099  200 dollars     Manhattan, Murray Hill\n",
       "3      3        5178   79 dollars  Manhattan, Hell's Kitchen\n",
       "4      4        5238  150 dollars       Manhattan, Chinatown"
      ]
     },
     "execution_count": 2,
     "metadata": {},
     "output_type": "execute_result"
    }
   ],
   "source": [
    "df = pd.read_csv('airbnb_price.csv')\n",
    "df.head()"
   ]
  },
  {
   "cell_type": "code",
   "execution_count": 3,
   "id": "399af8d2-6f65-48e4-ab71-fd5126ac69ba",
   "metadata": {},
   "outputs": [],
   "source": [
    "price = df.drop('index', axis=1)"
   ]
  },
  {
   "cell_type": "markdown",
   "id": "523e6419-7f0f-47b8-b34d-8ce129e77a5a",
   "metadata": {},
   "source": [
    "### Cleaning room_type data"
   ]
  },
  {
   "cell_type": "code",
   "execution_count": 4,
   "id": "aab195cd-e544-471c-887c-a60f053736e4",
   "metadata": {},
   "outputs": [
    {
     "data": {
      "text/html": [
       "<div>\n",
       "<style scoped>\n",
       "    .dataframe tbody tr th:only-of-type {\n",
       "        vertical-align: middle;\n",
       "    }\n",
       "\n",
       "    .dataframe tbody tr th {\n",
       "        vertical-align: top;\n",
       "    }\n",
       "\n",
       "    .dataframe thead th {\n",
       "        text-align: right;\n",
       "    }\n",
       "</style>\n",
       "<table border=\"1\" class=\"dataframe\">\n",
       "  <thead>\n",
       "    <tr style=\"text-align: right;\">\n",
       "      <th></th>\n",
       "      <th>index</th>\n",
       "      <th>listing_id</th>\n",
       "      <th>description</th>\n",
       "      <th>room_type</th>\n",
       "    </tr>\n",
       "  </thead>\n",
       "  <tbody>\n",
       "    <tr>\n",
       "      <th>0</th>\n",
       "      <td>0</td>\n",
       "      <td>2595</td>\n",
       "      <td>Skylit Midtown Castle</td>\n",
       "      <td>Entire home/apt</td>\n",
       "    </tr>\n",
       "    <tr>\n",
       "      <th>1</th>\n",
       "      <td>1</td>\n",
       "      <td>3831</td>\n",
       "      <td>Cozy Entire Floor of Brownstone</td>\n",
       "      <td>Entire home/apt</td>\n",
       "    </tr>\n",
       "    <tr>\n",
       "      <th>2</th>\n",
       "      <td>2</td>\n",
       "      <td>5099</td>\n",
       "      <td>Large Cozy 1 BR Apartment In Midtown East</td>\n",
       "      <td>Entire home/apt</td>\n",
       "    </tr>\n",
       "    <tr>\n",
       "      <th>3</th>\n",
       "      <td>3</td>\n",
       "      <td>5178</td>\n",
       "      <td>Large Furnished Room Near B'way</td>\n",
       "      <td>private room</td>\n",
       "    </tr>\n",
       "    <tr>\n",
       "      <th>4</th>\n",
       "      <td>4</td>\n",
       "      <td>5238</td>\n",
       "      <td>Cute &amp; Cozy Lower East Side 1 bdrm</td>\n",
       "      <td>Entire home/apt</td>\n",
       "    </tr>\n",
       "  </tbody>\n",
       "</table>\n",
       "</div>"
      ],
      "text/plain": [
       "   index  listing_id                                description  \\\n",
       "0      0        2595                      Skylit Midtown Castle   \n",
       "1      1        3831            Cozy Entire Floor of Brownstone   \n",
       "2      2        5099  Large Cozy 1 BR Apartment In Midtown East   \n",
       "3      3        5178            Large Furnished Room Near B'way   \n",
       "4      4        5238         Cute & Cozy Lower East Side 1 bdrm   \n",
       "\n",
       "         room_type  \n",
       "0  Entire home/apt  \n",
       "1  Entire home/apt  \n",
       "2  Entire home/apt  \n",
       "3     private room  \n",
       "4  Entire home/apt  "
      ]
     },
     "execution_count": 4,
     "metadata": {},
     "output_type": "execute_result"
    }
   ],
   "source": [
    "df2 = pd.read_excel('airbnb_room_type.xlsx')\n",
    "df2.head()"
   ]
  },
  {
   "cell_type": "code",
   "execution_count": 5,
   "id": "1d9b7a08-c001-4e7e-a68b-4919adb7dd22",
   "metadata": {},
   "outputs": [],
   "source": [
    "room_type = df2.drop('index', axis=1)"
   ]
  },
  {
   "cell_type": "markdown",
   "id": "9d4dc2d4-9f4d-493a-a2cb-61f48ca6f28f",
   "metadata": {},
   "source": [
    "### Cleaning last review data"
   ]
  },
  {
   "cell_type": "code",
   "execution_count": 6,
   "id": "e9b257be-b879-4411-ad86-a5de7016b339",
   "metadata": {},
   "outputs": [
    {
     "data": {
      "text/html": [
       "<div>\n",
       "<style scoped>\n",
       "    .dataframe tbody tr th:only-of-type {\n",
       "        vertical-align: middle;\n",
       "    }\n",
       "\n",
       "    .dataframe tbody tr th {\n",
       "        vertical-align: top;\n",
       "    }\n",
       "\n",
       "    .dataframe thead th {\n",
       "        text-align: right;\n",
       "    }\n",
       "</style>\n",
       "<table border=\"1\" class=\"dataframe\">\n",
       "  <thead>\n",
       "    <tr style=\"text-align: right;\">\n",
       "      <th></th>\n",
       "      <th>index</th>\n",
       "      <th>listing_id</th>\n",
       "      <th>host_name</th>\n",
       "      <th>last_review</th>\n",
       "    </tr>\n",
       "  </thead>\n",
       "  <tbody>\n",
       "    <tr>\n",
       "      <th>0</th>\n",
       "      <td>0</td>\n",
       "      <td>2595</td>\n",
       "      <td>Jennifer</td>\n",
       "      <td>May 21 2019</td>\n",
       "    </tr>\n",
       "    <tr>\n",
       "      <th>1</th>\n",
       "      <td>1</td>\n",
       "      <td>3831</td>\n",
       "      <td>LisaRoxanne</td>\n",
       "      <td>July 05 2019</td>\n",
       "    </tr>\n",
       "    <tr>\n",
       "      <th>2</th>\n",
       "      <td>2</td>\n",
       "      <td>5099</td>\n",
       "      <td>Chris</td>\n",
       "      <td>June 22 2019</td>\n",
       "    </tr>\n",
       "    <tr>\n",
       "      <th>3</th>\n",
       "      <td>3</td>\n",
       "      <td>5178</td>\n",
       "      <td>Shunichi</td>\n",
       "      <td>June 24 2019</td>\n",
       "    </tr>\n",
       "    <tr>\n",
       "      <th>4</th>\n",
       "      <td>4</td>\n",
       "      <td>5238</td>\n",
       "      <td>Ben</td>\n",
       "      <td>June 09 2019</td>\n",
       "    </tr>\n",
       "  </tbody>\n",
       "</table>\n",
       "</div>"
      ],
      "text/plain": [
       "   index  listing_id    host_name   last_review\n",
       "0      0        2595     Jennifer   May 21 2019\n",
       "1      1        3831  LisaRoxanne  July 05 2019\n",
       "2      2        5099        Chris  June 22 2019\n",
       "3      3        5178     Shunichi  June 24 2019\n",
       "4      4        5238          Ben  June 09 2019"
      ]
     },
     "execution_count": 6,
     "metadata": {},
     "output_type": "execute_result"
    }
   ],
   "source": [
    "df3 = pd.read_csv('airbnb_last_review.tsv')\n",
    "df3.head()"
   ]
  },
  {
   "cell_type": "code",
   "execution_count": 7,
   "id": "7f9f89df-6294-49fa-a052-661619cddce5",
   "metadata": {},
   "outputs": [],
   "source": [
    "last_review = df3.drop('index', axis=1)"
   ]
  },
  {
   "cell_type": "markdown",
   "id": "367b7ef0-bb5e-483f-a907-5323d7aa76bd",
   "metadata": {},
   "source": [
    "### Merging the dataframes"
   ]
  },
  {
   "cell_type": "code",
   "execution_count": 8,
   "id": "d10ba041-1ade-42f8-b243-757902a3a749",
   "metadata": {},
   "outputs": [],
   "source": [
    "merged_df = pd.merge(price, room_type, on='listing_id')\n",
    "merged_all = pd.merge(merged_df, last_review, on='listing_id')"
   ]
  },
  {
   "cell_type": "markdown",
   "id": "b5745993-7d41-4806-b887-4babca00bae5",
   "metadata": {},
   "source": [
    "### Changing the dtype of last_review to pd.to_datetime and Findig the earliest and most recent reviews"
   ]
  },
  {
   "cell_type": "code",
   "execution_count": 9,
   "id": "bf504e39-a85a-4880-a84e-734eac5fe4c6",
   "metadata": {},
   "outputs": [
    {
     "name": "stdout",
     "output_type": "stream",
     "text": [
      "The earliest review was: 2019-01-01 00:00:00 \n",
      "\n",
      "The most recent review was: 2019-07-09 00:00:00\n"
     ]
    }
   ],
   "source": [
    "# What are the dates of the earliest and most recent reviews?\n",
    "# To use a function like max()/min() on last_review date column, it needs to be converted to datetime type\n",
    "merged_all['last_review_date'] = pd.to_datetime(merged_all['last_review'], format='%B %d %Y')\n",
    "\n",
    "first_reviewed = merged_all['last_review_date'].min()\n",
    "last_reviewed = merged_all['last_review_date'].max()\n",
    "\n",
    "print('The earliest review was:',first_reviewed, '\\n')\n",
    "print('The most recent review was:',last_reviewed)"
   ]
  },
  {
   "cell_type": "markdown",
   "id": "ea977f96-7423-4eee-a735-880735e98f9f",
   "metadata": {},
   "source": [
    "### Finding the private_rooms "
   ]
  },
  {
   "cell_type": "code",
   "execution_count": 10,
   "id": "7395ab60-c7e0-4f91-9e92-dc8c3621c9d1",
   "metadata": {},
   "outputs": [
    {
     "name": "stdout",
     "output_type": "stream",
     "text": [
      "The number of private rooms are: 11356\n"
     ]
    }
   ],
   "source": [
    "# How many of the listings are private rooms?\n",
    "# Since there are differences in capitalization, make capitalization consistent\n",
    "merged_all['room_type'] = merged_all['room_type'].str.lower()\n",
    "private_room_count = merged_all[merged_all['room_type'] == 'private room'].shape[0]\n",
    "print('The number of private rooms are:', private_room_count)"
   ]
  },
  {
   "cell_type": "markdown",
   "id": "a14d8c55-2461-4b8d-95ea-b4195cbe8c41",
   "metadata": {},
   "source": [
    "### Cleaning and finding the mean of the price column"
   ]
  },
  {
   "cell_type": "code",
   "execution_count": 11,
   "id": "bc05cb20-4791-4aba-90f1-f2d5ebd0079d",
   "metadata": {},
   "outputs": [
    {
     "name": "stdout",
     "output_type": "stream",
     "text": [
      "The average price is: 141.7779364512674\n"
     ]
    }
   ],
   "source": [
    "# What is the average listing price?\n",
    "# To convert price to numeric, remove \" dollars\" from each value\n",
    "merged_all['price_clean'] = merged_all['price'].str.replace(' dollars', '').astype(float)\n",
    "avg_price = merged_all['price_clean'].mean()\n",
    "print('The average price is:', avg_price)"
   ]
  },
  {
   "cell_type": "markdown",
   "id": "dd2cac0e-62ad-43ed-a94d-a05aa93c5781",
   "metadata": {},
   "source": [
    "### Creating a DataFrame with the four solution values"
   ]
  },
  {
   "cell_type": "code",
   "execution_count": 12,
   "id": "a6b95633-080d-4993-92fc-93d882ffb1fc",
   "metadata": {},
   "outputs": [],
   "source": [
    "### Combine the new variables into one DataFrame called review_dates with four columns in the following order:\n",
    "review_dates = pd.DataFrame({\n",
    "    'first_reviewed': [first_reviewed],\n",
    "    'last_reviewed': [last_reviewed],\n",
    "    'nb_private_rooms': [private_room_count],\n",
    "    'avg_price': [round(avg_price, 2)]\n",
    "})"
   ]
  },
  {
   "cell_type": "code",
   "execution_count": 13,
   "id": "13751f65-722e-44a8-96a8-5140390e502f",
   "metadata": {},
   "outputs": [
    {
     "data": {
      "text/html": [
       "<div>\n",
       "<style scoped>\n",
       "    .dataframe tbody tr th:only-of-type {\n",
       "        vertical-align: middle;\n",
       "    }\n",
       "\n",
       "    .dataframe tbody tr th {\n",
       "        vertical-align: top;\n",
       "    }\n",
       "\n",
       "    .dataframe thead th {\n",
       "        text-align: right;\n",
       "    }\n",
       "</style>\n",
       "<table border=\"1\" class=\"dataframe\">\n",
       "  <thead>\n",
       "    <tr style=\"text-align: right;\">\n",
       "      <th></th>\n",
       "      <th>first_reviewed</th>\n",
       "      <th>last_reviewed</th>\n",
       "      <th>nb_private_rooms</th>\n",
       "      <th>avg_price</th>\n",
       "    </tr>\n",
       "  </thead>\n",
       "  <tbody>\n",
       "    <tr>\n",
       "      <th>0</th>\n",
       "      <td>2019-01-01</td>\n",
       "      <td>2019-07-09</td>\n",
       "      <td>11356</td>\n",
       "      <td>141.78</td>\n",
       "    </tr>\n",
       "  </tbody>\n",
       "</table>\n",
       "</div>"
      ],
      "text/plain": [
       "  first_reviewed last_reviewed  nb_private_rooms  avg_price\n",
       "0     2019-01-01    2019-07-09             11356     141.78"
      ]
     },
     "metadata": {},
     "output_type": "display_data"
    }
   ],
   "source": [
    "display(review_dates)"
   ]
  },
  {
   "cell_type": "code",
   "execution_count": null,
   "id": "3ca1857f-0650-4553-9e50-e0bf19819a32",
   "metadata": {},
   "outputs": [],
   "source": []
  }
 ],
 "metadata": {
  "kernelspec": {
   "display_name": "Python 3 (ipykernel)",
   "language": "python",
   "name": "python3"
  },
  "language_info": {
   "codemirror_mode": {
    "name": "ipython",
    "version": 3
   },
   "file_extension": ".py",
   "mimetype": "text/x-python",
   "name": "python",
   "nbconvert_exporter": "python",
   "pygments_lexer": "ipython3",
   "version": "3.9.13"
  }
 },
 "nbformat": 4,
 "nbformat_minor": 5
}
