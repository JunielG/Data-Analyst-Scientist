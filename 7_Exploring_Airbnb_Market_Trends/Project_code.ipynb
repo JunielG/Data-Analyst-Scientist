{
 "cells": [
  {
   "cell_type": "code",
   "execution_count": 2,
   "id": "f2f123fb-4dc0-4f16-9cc4-1f9d1d671e55",
   "metadata": {},
   "outputs": [],
   "source": [
    "# Import necessary packages\n",
    "import pandas as pd\n",
    "import numpy as np\n",
    "\n",
    "# Import CSV for prices\n",
    "airbnb_price = pd.read_csv('airbnb_price.csv')\n",
    "\n",
    "# Import Excel file for room types\n",
    "airbnb_room_type = pd.read_excel('airbnb_room_type.xlsx')\n",
    "\n",
    "# Import TSV for review dates\n",
    "airbnb_last_review = pd.read_csv('airbnb_last_review.tsv')\n",
    "\n",
    "# Join the three data frames together into one\n",
    "listings = pd.merge(airbnb_price, airbnb_room_type, on='listing_id')\n",
    "listings = pd.merge(listings, airbnb_last_review, on='listing_id')\n",
    "\n",
    "# What are the dates of the earliest and most recent reviews?\n",
    "# To use a function like max()/min() on last_review date column, it needs to be converted to datetime type\n",
    "listings['last_review_date'] = pd.to_datetime(listings['last_review'], format='%B %d %Y')\n",
    "first_reviewed = listings['last_review_date'].min()\n",
    "last_reviewed = listings['last_review_date'].max()\n",
    "\n",
    "# How many of the listings are private rooms?\n",
    "# Since there are differences in capitalization, make capitalization consistent\n",
    "listings['room_type'] = listings['room_type'].str.lower()\n",
    "private_room_count = listings[listings['room_type'] == 'private room'].shape[0]\n",
    "\n",
    "# What is the average listing price?\n",
    "# To convert price to numeric, remove \" dollars\" from each value\n",
    "listings['price_clean'] = listings['price'].str.replace(' dollars', '').astype(float)\n",
    "avg_price = listings['price_clean'].mean()\n",
    "\n",
    "review_dates = pd.DataFrame({\n",
    "    'first_reviewed': [first_reviewed],\n",
    "    'last_reviewed': [last_reviewed],\n",
    "    'nb_private_rooms': [private_room_count],\n",
    "    'avg_price': [round(avg_price, 2)]\n",
    "})"
   ]
  },
  {
   "cell_type": "code",
   "execution_count": 3,
   "id": "ac076d7a-f5a7-46e1-8cfc-55d4d7e1289b",
   "metadata": {},
   "outputs": [
    {
     "data": {
      "text/html": [
       "<div>\n",
       "<style scoped>\n",
       "    .dataframe tbody tr th:only-of-type {\n",
       "        vertical-align: middle;\n",
       "    }\n",
       "\n",
       "    .dataframe tbody tr th {\n",
       "        vertical-align: top;\n",
       "    }\n",
       "\n",
       "    .dataframe thead th {\n",
       "        text-align: right;\n",
       "    }\n",
       "</style>\n",
       "<table border=\"1\" class=\"dataframe\">\n",
       "  <thead>\n",
       "    <tr style=\"text-align: right;\">\n",
       "      <th></th>\n",
       "      <th>first_reviewed</th>\n",
       "      <th>last_reviewed</th>\n",
       "      <th>nb_private_rooms</th>\n",
       "      <th>avg_price</th>\n",
       "    </tr>\n",
       "  </thead>\n",
       "  <tbody>\n",
       "    <tr>\n",
       "      <th>0</th>\n",
       "      <td>2019-01-01</td>\n",
       "      <td>2019-07-09</td>\n",
       "      <td>11356</td>\n",
       "      <td>141.78</td>\n",
       "    </tr>\n",
       "  </tbody>\n",
       "</table>\n",
       "</div>"
      ],
      "text/plain": [
       "  first_reviewed last_reviewed  nb_private_rooms  avg_price\n",
       "0     2019-01-01    2019-07-09             11356     141.78"
      ]
     },
     "metadata": {},
     "output_type": "display_data"
    }
   ],
   "source": [
    "display(review_dates)"
   ]
  },
  {
   "cell_type": "code",
   "execution_count": null,
   "id": "1c4070c6-e137-4c90-8c32-2ea2a94bfc9f",
   "metadata": {},
   "outputs": [],
   "source": []
  }
 ],
 "metadata": {
  "kernelspec": {
   "display_name": "Python 3 (ipykernel)",
   "language": "python",
   "name": "python3"
  },
  "language_info": {
   "codemirror_mode": {
    "name": "ipython",
    "version": 3
   },
   "file_extension": ".py",
   "mimetype": "text/x-python",
   "name": "python",
   "nbconvert_exporter": "python",
   "pygments_lexer": "ipython3",
   "version": "3.9.13"
  }
 },
 "nbformat": 4,
 "nbformat_minor": 5
}
