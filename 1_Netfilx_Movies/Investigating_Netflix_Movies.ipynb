{
 "cells": [
  {
   "cell_type": "markdown",
   "id": "db7b93bd-ce8b-42e7-b075-7def9db9cb01",
   "metadata": {},
   "source": [
    "# Investigating Netflix Movies"
   ]
  },
  {
   "cell_type": "code",
   "execution_count": 7,
   "id": "1ffe81cb-d48a-401e-ad32-e3aff68960ed",
   "metadata": {},
   "outputs": [],
   "source": [
    "# Importing pandas and matplotlib\n",
    "import pandas as pd\n",
    "import matplotlib.pyplot as plt\n",
    "\n",
    "# Read in the Netflix CSV as a DataFrame\n",
    "netflix_df = pd.read_csv(\"netflix_data.csv\")"
   ]
  },
  {
   "cell_type": "code",
   "execution_count": null,
   "id": "6cca55d4-3766-422f-a401-c75731fe3c51",
   "metadata": {},
   "outputs": [],
   "source": [
    "# Subset the DataFrame for type \"Movie\"\n",
    "netflix_subset = netflix_df[netflix_df[\"type\"] == \"Movie\"]"
   ]
  },
  {
   "cell_type": "code",
   "execution_count": null,
   "id": "04388ee5-c1d4-40f6-8a2c-54d35f51e27b",
   "metadata": {},
   "outputs": [],
   "source": [
    "# Filter the to keep only movies released in the 1990s\n",
    "# Start by filtering out movies that were released before 1990\n",
    "subset = netflix_subset[(netflix_subset[\"release_year\"] >= 1990)]\n"
   ]
  },
  {
   "cell_type": "code",
   "execution_count": null,
   "id": "ae5f5e1e-42ac-47fa-b7ea-c4772ea08526",
   "metadata": {},
   "outputs": [],
   "source": [
    "# And then do the same to filter out movies released on or after 2000\n",
    "movies_1990s = subset[(subset[\"release_year\"] < 2000)]"
   ]
  },
  {
   "cell_type": "code",
   "execution_count": null,
   "id": "84dcfe9f-68a8-40fd-99dc-04306bbe4bfc",
   "metadata": {},
   "outputs": [],
   "source": [
    "# Another way to do this step is to use the & operator which allows you to do this type of filtering in one step\n",
    "# movies_1990s = netflix_subset[(netflix_subset[\"release_year\"] >= 1990) & (netflix_subset[\"release_year\"] < 2000)]\n"
   ]
  },
  {
   "cell_type": "code",
   "execution_count": null,
   "id": "1d12372e-79e3-4efa-a73f-7cdec47bafa0",
   "metadata": {},
   "outputs": [],
   "source": [
    "# Visualize the duration column of your filtered data to see the distribution of movie durations\n",
    "# See which bar is the highest and save the duration value, this doesn't need to be exact!\n",
    "plt.hist(movies_1990s[\"duration\"])\n",
    "plt.title('Distribution of Movie Durations in the 1990s')\n",
    "plt.xlabel('Duration (minutes)')\n",
    "plt.ylabel('Number of Movies')\n",
    "plt.show()"
   ]
  },
  {
   "cell_type": "code",
   "execution_count": null,
   "id": "11e02233-9b43-445f-9949-a535f640e68e",
   "metadata": {},
   "outputs": [],
   "source": [
    "duration = 100"
   ]
  },
  {
   "cell_type": "code",
   "execution_count": null,
   "id": "21b0de00-ddd6-41cb-b7e9-3acd0bbb0142",
   "metadata": {},
   "outputs": [],
   "source": [
    "# Filter the data again to keep only the Action movies\n",
    "action_movies_1990s = movies_1990s[movies_1990s[\"genre\"] == \"Action\"]\n"
   ]
  },
  {
   "cell_type": "code",
   "execution_count": null,
   "id": "92f162ff-3bef-46cc-9fb9-bb70963b4c54",
   "metadata": {},
   "outputs": [],
   "source": [
    "# Use a for loop and a counter to count how many short action movies there were in the 1990s\n"
   ]
  },
  {
   "cell_type": "code",
   "execution_count": null,
   "id": "22cc35df-97f2-4bae-9ea0-bd5eb33c8faf",
   "metadata": {},
   "outputs": [],
   "source": [
    "# Start the counter\n",
    "short_movie_count = 0"
   ]
  },
  {
   "cell_type": "code",
   "execution_count": null,
   "id": "53f7e663-6c37-4dea-91ad-8fcadf715031",
   "metadata": {},
   "outputs": [],
   "source": [
    "# Iterate over the labels and rows of the DataFrame and check if the duration is less than 90, if it is, add 1 to the counter, if it isn't, the counter should remain the same\n",
    "for label, row in action_movies_1990s.iterrows() :\n",
    "    if row[\"duration\"] < 90 :\n",
    "        short_movie_count = short_movie_count + 1\n",
    "    else:\n",
    "        short_movie_count = short_movie_count\n",
    "\n",
    "print(short_movie_count)"
   ]
  },
  {
   "cell_type": "code",
   "execution_count": null,
   "id": "d529b970-1a7b-4dfc-93e9-a5ed65e11cb9",
   "metadata": {},
   "outputs": [],
   "source": [
    "# A quicker way of counting values in a column is to use .sum() on the desired column\n",
    "# (action_movies_1990s[\"duration\"] < 90).sum()"
   ]
  },
  {
   "cell_type": "code",
   "execution_count": null,
   "id": "e61b81c3-fc8c-40a5-a379-936a1b638aa0",
   "metadata": {},
   "outputs": [],
   "source": []
  }
 ],
 "metadata": {
  "kernelspec": {
   "display_name": "Python 3 (ipykernel)",
   "language": "python",
   "name": "python3"
  },
  "language_info": {
   "codemirror_mode": {
    "name": "ipython",
    "version": 3
   },
   "file_extension": ".py",
   "mimetype": "text/x-python",
   "name": "python",
   "nbconvert_exporter": "python",
   "pygments_lexer": "ipython3",
   "version": "3.9.13"
  }
 },
 "nbformat": 4,
 "nbformat_minor": 5
}
